{
  "cells": [
    {
      "cell_type": "markdown",
      "metadata": {},
      "source": [
        "In this, the MLP head is added and only the head is trained on the data, while the transformer block are kept frozen. \n",
        "\n",
        "Resulting in giving about 89-90% test accuracy"
      ]
    },
    {
      "cell_type": "code",
      "execution_count": 1,
      "metadata": {
        "colab": {
          "base_uri": "https://localhost:8080/"
        },
        "id": "VTRsPlACdQ_1",
        "outputId": "ef97c9f7-aaca-45e0-966e-c49663e66c6f"
      },
      "outputs": [
        {
          "name": "stdout",
          "output_type": "stream",
          "text": [
            "Drive already mounted at /content/gdrive; to attempt to forcibly remount, call drive.mount(\"/content/gdrive\", force_remount=True).\n"
          ]
        }
      ],
      "source": [
        "from google.colab import drive\n",
        "drive.mount('/content/gdrive')"
      ]
    },
    {
      "cell_type": "code",
      "execution_count": 2,
      "metadata": {
        "_kg_hide-input": true,
        "_kg_hide-output": true,
        "colab": {
          "base_uri": "https://localhost:8080/"
        },
        "execution": {
          "iopub.execute_input": "2020-12-02T18:32:25.025299Z",
          "iopub.status.busy": "2020-12-02T18:32:25.024308Z",
          "iopub.status.idle": "2020-12-02T18:34:10.700354Z",
          "shell.execute_reply": "2020-12-02T18:34:10.699640Z"
        },
        "id": "vsaq89tjIGQ4",
        "outputId": "ecdb12fd-37a7-4df1-a2a0-1e0a98484f8f",
        "papermill": {
          "duration": 105.718607,
          "end_time": "2020-12-02T18:34:10.700500",
          "exception": false,
          "start_time": "2020-12-02T18:32:24.981893",
          "status": "completed"
        },
        "tags": []
      },
      "outputs": [
        {
          "name": "stdout",
          "output_type": "stream",
          "text": [
            "Requirement already satisfied: timm in /usr/local/lib/python3.7/dist-packages (0.4.12)\n",
            "Requirement already satisfied: torchvision in /usr/local/lib/python3.7/dist-packages (from timm) (0.11.1+cu111)\n",
            "Requirement already satisfied: torch>=1.4 in /usr/local/lib/python3.7/dist-packages (from timm) (1.10.0+cu111)\n",
            "Requirement already satisfied: typing-extensions in /usr/local/lib/python3.7/dist-packages (from torch>=1.4->timm) (3.10.0.2)\n",
            "Requirement already satisfied: pillow!=8.3.0,>=5.3.0 in /usr/local/lib/python3.7/dist-packages (from torchvision->timm) (7.1.2)\n",
            "Requirement already satisfied: numpy in /usr/local/lib/python3.7/dist-packages (from torchvision->timm) (1.19.5)\n"
          ]
        }
      ],
      "source": [
        "!pip install timm"
      ]
    },
    {
      "cell_type": "code",
      "execution_count": 3,
      "metadata": {
        "execution": {
          "iopub.execute_input": "2020-12-02T18:34:10.826084Z",
          "iopub.status.busy": "2020-12-02T18:34:10.824931Z",
          "iopub.status.idle": "2020-12-02T18:34:13.015202Z",
          "shell.execute_reply": "2020-12-02T18:34:13.015867Z"
        },
        "id": "Y5fsmaS4IGQ4",
        "papermill": {
          "duration": 2.258623,
          "end_time": "2020-12-02T18:34:13.016037",
          "exception": false,
          "start_time": "2020-12-02T18:34:10.757414",
          "status": "completed"
        },
        "tags": []
      },
      "outputs": [],
      "source": [
        "import numpy as np\n",
        "import pandas as pd\n",
        "import matplotlib.pyplot as plt\n",
        "from skimage import io\n",
        "plt.style.use(\"ggplot\")\n",
        "\n",
        "import torch\n",
        "import torch.nn as nn\n",
        "import torchvision.transforms as transforms\n",
        "\n",
        "import timm\n",
        "\n",
        "import gc\n",
        "import os\n",
        "import time\n",
        "import random\n",
        "from datetime import datetime\n",
        "\n",
        "from PIL import Image\n",
        "from tqdm.notebook import tqdm\n",
        "from sklearn import model_selection, metrics\n",
        "from shutil import copyfile"
      ]
    },
    {
      "cell_type": "code",
      "execution_count": 4,
      "metadata": {
        "execution": {
          "iopub.execute_input": "2020-12-02T18:34:13.273861Z",
          "iopub.status.busy": "2020-12-02T18:34:13.273082Z",
          "iopub.status.idle": "2020-12-02T18:34:13.288963Z",
          "shell.execute_reply": "2020-12-02T18:34:13.288196Z"
        },
        "id": "WTO_w_wEIGQ5",
        "papermill": {
          "duration": 0.083797,
          "end_time": "2020-12-02T18:34:13.289095",
          "exception": false,
          "start_time": "2020-12-02T18:34:13.205298",
          "status": "completed"
        },
        "tags": []
      },
      "outputs": [],
      "source": [
        "def seed_everything(seed):\n",
        "    \"\"\"\n",
        "    Seeds basic parameters for reproductibility of results\n",
        "    \n",
        "    Arguments:\n",
        "        seed {int} -- Number of the seed\n",
        "    \"\"\"\n",
        "    random.seed(seed)\n",
        "    os.environ[\"PYTHONHASHSEED\"] = str(seed)\n",
        "    np.random.seed(seed)\n",
        "    torch.manual_seed(seed)\n",
        "    torch.cuda.manual_seed(seed)\n",
        "    torch.backends.cudnn.deterministic = True\n",
        "    torch.backends.cudnn.benchmark = False\n",
        "\n",
        "\n",
        "seed_everything(1001)"
      ]
    },
    {
      "cell_type": "code",
      "execution_count": 5,
      "metadata": {
        "colab": {
          "base_uri": "https://localhost:8080/"
        },
        "id": "L9b06LUPdD7p",
        "outputId": "1aff99e0-4253-4ae9-a6cb-a9faf61bfe8d"
      },
      "outputs": [
        {
          "name": "stdout",
          "output_type": "stream",
          "text": [
            "Pollen_data.zip  test.zip  train.zip\n"
          ]
        }
      ],
      "source": [
        "!ls \"gdrive/MyDrive/Machine Vision and Image Processing/Project/Dataset\""
      ]
    },
    {
      "cell_type": "code",
      "execution_count": 6,
      "metadata": {
        "colab": {
          "base_uri": "https://localhost:8080/"
        },
        "id": "57XALDSLdfIi",
        "outputId": "9a24758a-89ff-42ad-81bd-8ee3e5681c9b"
      },
      "outputs": [
        {
          "name": "stdout",
          "output_type": "stream",
          "text": [
            "replace Pollen_data/images/20190402172108_OBJ_4_1107_445.png? [y]es, [n]o, [A]ll, [N]one, [r]ename: A\n"
          ]
        }
      ],
      "source": [
        "!unzip -q \"gdrive/MyDrive/Machine Vision and Image Processing/Project/Dataset/Pollen_data.zip\""
      ]
    },
    {
      "cell_type": "markdown",
      "metadata": {
        "id": "UO_RjEdTd95Q"
      },
      "source": [
        "## Loading the prepared Dataset"
      ]
    },
    {
      "cell_type": "code",
      "execution_count": 6,
      "metadata": {
        "id": "n4CB2Gp2cPe5"
      },
      "outputs": [],
      "source": [
        "# general global variables\n",
        "DATA_PATH = \"Pollen_data\"\n",
        "IMAGES_PATH = \"Pollen_data/images\""
      ]
    },
    {
      "cell_type": "code",
      "execution_count": 7,
      "metadata": {
        "colab": {
          "base_uri": "https://localhost:8080/",
          "height": 204
        },
        "execution": {
          "iopub.execute_input": "2020-12-02T18:34:13.557875Z",
          "iopub.status.busy": "2020-12-02T18:34:13.557096Z",
          "iopub.status.idle": "2020-12-02T18:34:13.603956Z",
          "shell.execute_reply": "2020-12-02T18:34:13.603128Z"
        },
        "id": "KZ84J__pIGQ5",
        "outputId": "710b3680-c79a-45f1-88e0-531d05d2ca2d",
        "papermill": {
          "duration": 0.114526,
          "end_time": "2020-12-02T18:34:13.604087",
          "exception": false,
          "start_time": "2020-12-02T18:34:13.489561",
          "status": "completed"
        },
        "tags": []
      },
      "outputs": [
        {
          "data": {
            "text/html": [
              "<div>\n",
              "<style scoped>\n",
              "    .dataframe tbody tr th:only-of-type {\n",
              "        vertical-align: middle;\n",
              "    }\n",
              "\n",
              "    .dataframe tbody tr th {\n",
              "        vertical-align: top;\n",
              "    }\n",
              "\n",
              "    .dataframe thead th {\n",
              "        text-align: right;\n",
              "    }\n",
              "</style>\n",
              "<table border=\"1\" class=\"dataframe\">\n",
              "  <thead>\n",
              "    <tr style=\"text-align: right;\">\n",
              "      <th></th>\n",
              "      <th>image_id</th>\n",
              "      <th>label</th>\n",
              "    </tr>\n",
              "  </thead>\n",
              "  <tbody>\n",
              "    <tr>\n",
              "      <th>0</th>\n",
              "      <td>20190404111949_OBJ_0_1080_876.png</td>\n",
              "      <td>0</td>\n",
              "    </tr>\n",
              "    <tr>\n",
              "      <th>1</th>\n",
              "      <td>20190404110111_OBJ_27_393_106.png</td>\n",
              "      <td>0</td>\n",
              "    </tr>\n",
              "    <tr>\n",
              "      <th>2</th>\n",
              "      <td>20190404114349_OBJ_24_349_190.png</td>\n",
              "      <td>0</td>\n",
              "    </tr>\n",
              "    <tr>\n",
              "      <th>3</th>\n",
              "      <td>20190404112959_OBJ_33_841_184.png</td>\n",
              "      <td>0</td>\n",
              "    </tr>\n",
              "    <tr>\n",
              "      <th>4</th>\n",
              "      <td>20190404110146_OBJ_3_444_825.png</td>\n",
              "      <td>0</td>\n",
              "    </tr>\n",
              "  </tbody>\n",
              "</table>\n",
              "</div>"
            ],
            "text/plain": [
              "                            image_id  label\n",
              "0  20190404111949_OBJ_0_1080_876.png      0\n",
              "1  20190404110111_OBJ_27_393_106.png      0\n",
              "2  20190404114349_OBJ_24_349_190.png      0\n",
              "3  20190404112959_OBJ_33_841_184.png      0\n",
              "4   20190404110146_OBJ_3_444_825.png      0"
            ]
          },
          "execution_count": 7,
          "metadata": {},
          "output_type": "execute_result"
        }
      ],
      "source": [
        "df = pd.read_csv(os.path.join(DATA_PATH, \"data.csv\"))\n",
        "df.head()"
      ]
    },
    {
      "cell_type": "code",
      "execution_count": 8,
      "metadata": {
        "colab": {
          "base_uri": "https://localhost:8080/"
        },
        "execution": {
          "iopub.execute_input": "2020-12-02T18:34:13.744267Z",
          "iopub.status.busy": "2020-12-02T18:34:13.736833Z",
          "iopub.status.idle": "2020-12-02T18:34:13.752203Z",
          "shell.execute_reply": "2020-12-02T18:34:13.752809Z"
        },
        "id": "DOvQ3r_KIGQ6",
        "outputId": "1910ae25-499d-44ac-d578-781a1c5d5ca6",
        "papermill": {
          "duration": 0.087447,
          "end_time": "2020-12-02T18:34:13.752968",
          "exception": false,
          "start_time": "2020-12-02T18:34:13.665521",
          "status": "completed"
        },
        "tags": []
      },
      "outputs": [
        {
          "name": "stdout",
          "output_type": "stream",
          "text": [
            "<class 'pandas.core.frame.DataFrame'>\n",
            "RangeIndex: 11279 entries, 0 to 11278\n",
            "Data columns (total 2 columns):\n",
            " #   Column    Non-Null Count  Dtype \n",
            "---  ------    --------------  ----- \n",
            " 0   image_id  11279 non-null  object\n",
            " 1   label     11279 non-null  int64 \n",
            "dtypes: int64(1), object(1)\n",
            "memory usage: 176.4+ KB\n"
          ]
        }
      ],
      "source": [
        "df.info()"
      ]
    },
    {
      "cell_type": "code",
      "execution_count": 9,
      "metadata": {
        "colab": {
          "base_uri": "https://localhost:8080/",
          "height": 279
        },
        "execution": {
          "iopub.execute_input": "2020-12-02T18:34:13.889294Z",
          "iopub.status.busy": "2020-12-02T18:34:13.888176Z",
          "iopub.status.idle": "2020-12-02T18:34:14.103989Z",
          "shell.execute_reply": "2020-12-02T18:34:14.103314Z"
        },
        "id": "-DUxwZqnIGQ6",
        "outputId": "7ead5ff5-acb9-46c3-937c-e745afeb4624",
        "papermill": {
          "duration": 0.288382,
          "end_time": "2020-12-02T18:34:14.104118",
          "exception": false,
          "start_time": "2020-12-02T18:34:13.815736",
          "status": "completed"
        },
        "tags": []
      },
      "outputs": [
        {
          "data": {
            "text/plain": [
              "<matplotlib.axes._subplots.AxesSubplot at 0x7f2da3711ad0>"
            ]
          },
          "execution_count": 9,
          "metadata": {},
          "output_type": "execute_result"
        },
        {
          "data": {
            "image/png": "[encoded data removed]",
            "text/plain": [
              "<Figure size 432x288 with 1 Axes>"
            ]
          },
          "metadata": {},
          "output_type": "display_data"
        }
      ],
      "source": [
        "df.label.value_counts().plot(kind=\"bar\")"
      ]
    },
    {
      "cell_type": "code",
      "execution_count": 10,
      "metadata": {
        "id": "IamQAhx8KBge"
      },
      "outputs": [],
      "source": [
        "# Here for splitting the data into train, test and validation. We will using train_test_split from sklearn\n",
        "\n",
        "# First divide the data into train data (80%) and remaining data(20%)\n",
        "# Secodn divide the remaining data into validation (10%) and test data(10%)\n",
        "train_df, remaining_df = model_selection.train_test_split(df, test_size=0.2, random_state=42, stratify=df.label.values)"
      ]
    },
    {
      "cell_type": "code",
      "execution_count": 11,
      "metadata": {
        "colab": {
          "base_uri": "https://localhost:8080/",
          "height": 296
        },
        "id": "9N_RAonhLBrr",
        "outputId": "266312c9-fa95-431e-ffe9-a8c2dfd80837"
      },
      "outputs": [
        {
          "data": {
            "text/plain": [
              "Text(0.5, 1.0, 'Training data distribution')"
            ]
          },
          "execution_count": 11,
          "metadata": {},
          "output_type": "execute_result"
        },
        {
          "data": {
            "image/png": "[encoded data removed]",
            "text/plain": [
              "<Figure size 432x288 with 1 Axes>"
            ]
          },
          "metadata": {},
          "output_type": "display_data"
        }
      ],
      "source": [
        "# Training data distribution\n",
        "train_df.label.value_counts().plot(kind=\"bar\")\n",
        "plt.title(\"Training data distribution\")"
      ]
    },
    {
      "cell_type": "code",
      "execution_count": 12,
      "metadata": {
        "colab": {
          "base_uri": "https://localhost:8080/"
        },
        "id": "qiQiOcbELnfu",
        "outputId": "d4ed813c-b354-4ce1-95d1-d6cb83acc11e"
      },
      "outputs": [
        {
          "data": {
            "text/plain": [
              "2    6573\n",
              "0    1253\n",
              "1     618\n",
              "3     579\n",
              "Name: label, dtype: int64"
            ]
          },
          "execution_count": 12,
          "metadata": {},
          "output_type": "execute_result"
        }
      ],
      "source": [
        "train_df.label.value_counts()"
      ]
    },
    {
      "cell_type": "code",
      "execution_count": 13,
      "metadata": {
        "colab": {
          "base_uri": "https://localhost:8080/",
          "height": 296
        },
        "execution": {
          "iopub.execute_input": "2020-12-02T18:34:14.240631Z",
          "iopub.status.busy": "2020-12-02T18:34:14.239815Z",
          "iopub.status.idle": "2020-12-02T18:34:14.272019Z",
          "shell.execute_reply": "2020-12-02T18:34:14.271271Z"
        },
        "id": "cQKqI5lxIGQ6",
        "outputId": "d9bc5462-77aa-4f6f-a0cb-b640ad118202",
        "papermill": {
          "duration": 0.102979,
          "end_time": "2020-12-02T18:34:14.272159",
          "exception": false,
          "start_time": "2020-12-02T18:34:14.169180",
          "status": "completed"
        },
        "tags": []
      },
      "outputs": [
        {
          "data": {
            "text/plain": [
              "Text(0.5, 1.0, 'Except training data distribution')"
            ]
          },
          "execution_count": 13,
          "metadata": {},
          "output_type": "execute_result"
        },
        {
          "data": {
            "image/png": "[encoded data removed]",
            "text/plain": [
              "<Figure size 432x288 with 1 Axes>"
            ]
          },
          "metadata": {},
          "output_type": "display_data"
        }
      ],
      "source": [
        "remaining_df.label.value_counts().plot(kind=\"bar\")\n",
        "plt.title(\"Except training data distribution\")"
      ]
    },
    {
      "cell_type": "code",
      "execution_count": 14,
      "metadata": {
        "id": "TfyP5ENmLNAK"
      },
      "outputs": [],
      "source": [
        "valid_df, test_df = model_selection.train_test_split(remaining_df, test_size=0.5, random_state=42, stratify=remaining_df.label.values)"
      ]
    },
    {
      "cell_type": "code",
      "execution_count": 15,
      "metadata": {
        "colab": {
          "base_uri": "https://localhost:8080/"
        },
        "id": "D2d8YNZyL5QL",
        "outputId": "277b192a-0858-40a8-ff87-d32ed70ef085"
      },
      "outputs": [
        {
          "data": {
            "text/plain": [
              "2    821\n",
              "0    156\n",
              "1     78\n",
              "3     73\n",
              "Name: label, dtype: int64"
            ]
          },
          "execution_count": 15,
          "metadata": {},
          "output_type": "execute_result"
        }
      ],
      "source": [
        "valid_df.label.value_counts()"
      ]
    },
    {
      "cell_type": "code",
      "execution_count": 16,
      "metadata": {
        "colab": {
          "base_uri": "https://localhost:8080/",
          "height": 296
        },
        "id": "Ez-Q5OmmLV3G",
        "outputId": "5bef3e74-a94c-477f-8a7c-4be68d3c58f2"
      },
      "outputs": [
        {
          "data": {
            "text/plain": [
              "Text(0.5, 1.0, 'Validation data distribution')"
            ]
          },
          "execution_count": 16,
          "metadata": {},
          "output_type": "execute_result"
        },
        {
          "data": {
            "image/png": "[encoded data removed]",
            "text/plain": [
              "<Figure size 432x288 with 1 Axes>"
            ]
          },
          "metadata": {},
          "output_type": "display_data"
        }
      ],
      "source": [
        "valid_df.label.value_counts().plot(kind=\"bar\")\n",
        "plt.title(\"Validation data distribution\")"
      ]
    },
    {
      "cell_type": "code",
      "execution_count": 17,
      "metadata": {
        "colab": {
          "base_uri": "https://localhost:8080/"
        },
        "id": "iEcVADBXMCAi",
        "outputId": "d82ba0f8-89bb-44a8-aeba-9880e142dd5c"
      },
      "outputs": [
        {
          "name": "stdout",
          "output_type": "stream",
          "text": [
            "jx_vit_base_p16_224-80ecf9dd.pth.zip\n"
          ]
        }
      ],
      "source": [
        "!ls \"gdrive/MyDrive/Machine Vision and Image Processing/Project/pretrained_model\""
      ]
    },
    {
      "cell_type": "code",
      "execution_count": 20,
      "metadata": {
        "id": "9u6VH4sqL9o4"
      },
      "outputs": [],
      "source": [
        "# Getting the pretrained transformer model into the current running environment\n",
        "!unzip -q \"gdrive/MyDrive/Machine Vision and Image Processing/Project/pretrained_model/jx_vit_base_p16_224-80ecf9dd.pth.zip\""
      ]
    },
    {
      "cell_type": "code",
      "execution_count": 18,
      "metadata": {
        "id": "OP2_rWBnb_AJ"
      },
      "outputs": [],
      "source": [
        "MODEL_PATH = (\"jx_vit_base_p16_224-80ecf9dd.pth\")\n",
        "\n",
        "\n",
        "# model specific global variables\n",
        "IMG_SIZE = 224\n",
        "BATCH_SIZE = 16"
      ]
    },
    {
      "cell_type": "code",
      "execution_count": 19,
      "metadata": {
        "colab": {
          "base_uri": "https://localhost:8080/",
          "height": 35
        },
        "id": "3j1GPamiMgrA",
        "outputId": "fd269cbc-68ed-4d4d-9c46-1ed0adbac592"
      },
      "outputs": [
        {
          "data": {
            "application/vnd.google.colaboratory.intrinsic+json": {
              "type": "string"
            },
            "text/plain": [
              "'Pollen_data'"
            ]
          },
          "execution_count": 19,
          "metadata": {},
          "output_type": "execute_result"
        }
      ],
      "source": [
        "DATA_PATH"
      ]
    },
    {
      "cell_type": "code",
      "execution_count": 20,
      "metadata": {
        "colab": {
          "base_uri": "https://localhost:8080/"
        },
        "id": "UmzFbWa9MsLN",
        "outputId": "da485ea1-17af-4d49-98bb-56d2fa7a603c"
      },
      "outputs": [
        {
          "data": {
            "text/plain": [
              "11279"
            ]
          },
          "execution_count": 20,
          "metadata": {},
          "output_type": "execute_result"
        }
      ],
      "source": [
        "len(df.values)"
      ]
    },
    {
      "cell_type": "code",
      "execution_count": 27,
      "metadata": {
        "execution": {
          "iopub.execute_input": "2020-12-02T18:34:14.419320Z",
          "iopub.status.busy": "2020-12-02T18:34:14.418142Z",
          "iopub.status.idle": "2020-12-02T18:34:14.444009Z",
          "shell.execute_reply": "2020-12-02T18:34:14.443354Z"
        },
        "id": "X10x9aa4IGQ6",
        "papermill": {
          "duration": 0.106308,
          "end_time": "2020-12-02T18:34:14.444148",
          "exception": false,
          "start_time": "2020-12-02T18:34:14.337840",
          "status": "completed"
        },
        "tags": []
      },
      "outputs": [],
      "source": [
        "from torch.utils.data import DataLoader\n",
        "class PollenDataset(torch.utils.data.Dataset):\n",
        "    \"\"\"\n",
        "    Helper Class to create the pytorch dataset\n",
        "    \"\"\"\n",
        "\n",
        "    def __init__(self, df, data_path=DATA_PATH, transforms=None):\n",
        "        super().__init__()\n",
        "        self.df_data = df.values\n",
        "        self.data_path = data_path\n",
        "        self.transforms = transforms\n",
        "        self.data_dir = \"images\"\n",
        "\n",
        "    def __len__(self):\n",
        "        return len(self.df_data)\n",
        "\n",
        "    def __getitem__(self, index):\n",
        "        img_name, label = self.df_data[index]\n",
        "        img_path = os.path.join(self.data_path, self.data_dir, img_name)\n",
        "        img = Image.open(img_path).convert(\"RGB\")\n",
        "        label = np.asarray(label, dtype='int64')\n",
        "\n",
        "        if self.transforms is not None:\n",
        "            image = self.transforms(img)\n",
        "\n",
        "        return image, torch.from_numpy(label)\n",
        "        # return img_name, label"
      ]
    },
    {
      "cell_type": "code",
      "execution_count": 28,
      "metadata": {
        "execution": {
          "iopub.execute_input": "2020-12-02T18:34:14.590922Z",
          "iopub.status.busy": "2020-12-02T18:34:14.589829Z",
          "iopub.status.idle": "2020-12-02T18:34:14.612461Z",
          "shell.execute_reply": "2020-12-02T18:34:14.611720Z"
        },
        "id": "vj0xgpWNIGQ7",
        "papermill": {
          "duration": 0.101631,
          "end_time": "2020-12-02T18:34:14.612584",
          "exception": false,
          "start_time": "2020-12-02T18:34:14.510953",
          "status": "completed"
        },
        "tags": []
      },
      "outputs": [],
      "source": [
        "# create image augmentations\n",
        "\n",
        "transforms_train = transforms.Compose(\n",
        "    [\n",
        "        transforms.Resize((IMG_SIZE, IMG_SIZE)),\n",
        "        transforms.RandomHorizontalFlip(p=0.3),\n",
        "        transforms.RandomVerticalFlip(p=0.3),\n",
        "        transforms.RandomResizedCrop(IMG_SIZE),\n",
        "        transforms.ToTensor(),\n",
        "        transforms.Normalize((0.485, 0.456, 0.406), (0.229, 0.224, 0.225)),\n",
        "    ]\n",
        ")\n",
        "\n",
        "transforms_valid = transforms.Compose(\n",
        "    [\n",
        "        transforms.Resize((IMG_SIZE, IMG_SIZE)),\n",
        "        transforms.ToTensor(),\n",
        "        transforms.Normalize((0.485, 0.456, 0.406), (0.229, 0.224, 0.225)),\n",
        "    ]\n",
        ")"
      ]
    },
    {
      "cell_type": "code",
      "execution_count": 29,
      "metadata": {
        "id": "p9rKlbPSz3wE"
      },
      "outputs": [],
      "source": [
        "# Train and validation dataset with transformations\n",
        "train_dataset = PollenDataset(train_df, transforms=transforms_train)\n",
        "valid_dataset = PollenDataset(valid_df, transforms=transforms_valid)"
      ]
    },
    {
      "cell_type": "code",
      "execution_count": 30,
      "metadata": {
        "id": "qLsdoP4iz7mJ"
      },
      "outputs": [],
      "source": [
        "# Train and validation loader \n",
        "train_loader = DataLoader(\n",
        "     dataset=train_dataset,\n",
        "     batch_size=BATCH_SIZE,\n",
        "     shuffle = True\n",
        "     )\n",
        "valid_loader = DataLoader(\n",
        "    dataset=valid_dataset,\n",
        "    batch_size=BATCH_SIZE,\n",
        "    shuffle=False\n",
        "    )"
      ]
    },
    {
      "cell_type": "code",
      "execution_count": 31,
      "metadata": {
        "colab": {
          "base_uri": "https://localhost:8080/"
        },
        "id": "5F6_7Yz40AR5",
        "outputId": "1e2dfd8f-1132-4695-aa72-9a7c7db47125"
      },
      "outputs": [
        {
          "name": "stdout",
          "output_type": "stream",
          "text": [
            "torch.Size([16, 3, 224, 224])\n",
            "tensor(2.2318)\n",
            "tensor(-2.0357)\n"
          ]
        }
      ],
      "source": [
        "train_sample = iter(train_loader)\n",
        "data, label = train_sample.next()\n",
        "print(data.shape)\n",
        "print(data.max())\n",
        "print(data.min())"
      ]
    },
    {
      "cell_type": "code",
      "execution_count": 32,
      "metadata": {
        "colab": {
          "base_uri": "https://localhost:8080/"
        },
        "id": "izK24-Mj68Fo",
        "outputId": "35d44395-ba0b-48ae-826e-a1fc9d285725"
      },
      "outputs": [
        {
          "data": {
            "text/plain": [
              "torch.float32"
            ]
          },
          "execution_count": 32,
          "metadata": {},
          "output_type": "execute_result"
        }
      ],
      "source": [
        "data.dtype"
      ]
    },
    {
      "cell_type": "code",
      "execution_count": null,
      "metadata": {
        "execution": {
          "iopub.execute_input": "2020-12-02T18:34:14.755007Z",
          "iopub.status.busy": "2020-12-02T18:34:14.753893Z",
          "iopub.status.idle": "2020-12-02T18:34:14.765112Z",
          "shell.execute_reply": "2020-12-02T18:34:14.764319Z"
        },
        "id": "cIKAyHd2IGQ7",
        "papermill": {
          "duration": 0.08523,
          "end_time": "2020-12-02T18:34:14.765245",
          "exception": false,
          "start_time": "2020-12-02T18:34:14.680015",
          "status": "completed"
        },
        "tags": []
      },
      "outputs": [],
      "source": [
        "print(\"Available Vision Transformer Models: \")\n",
        "timm.list_models(\"vit*\")"
      ]
    },
    {
      "cell_type": "code",
      "execution_count": 33,
      "metadata": {
        "execution": {
          "iopub.execute_input": "2020-12-02T18:34:14.936128Z",
          "iopub.status.busy": "2020-12-02T18:34:14.924554Z",
          "iopub.status.idle": "2020-12-02T18:34:15.031764Z",
          "shell.execute_reply": "2020-12-02T18:34:15.030784Z"
        },
        "id": "Zx7qnjCwIGQ7",
        "papermill": {
          "duration": 0.197739,
          "end_time": "2020-12-02T18:34:15.031965",
          "exception": false,
          "start_time": "2020-12-02T18:34:14.834226",
          "status": "completed"
        },
        "tags": []
      },
      "outputs": [],
      "source": [
        "class ViTBase16(nn.Module):\n",
        "    def __init__(self, n_classes, pretrained=False):\n",
        "\n",
        "        super(ViTBase16, self).__init__()\n",
        "\n",
        "        self.model = timm.create_model(\"vit_base_patch16_224\", pretrained=False)\n",
        "        if pretrained:\n",
        "            self.model.load_state_dict(torch.load(MODEL_PATH))\n",
        "\n",
        "        self.model.head = nn.Linear(self.model.head.in_features, n_classes)\n",
        "\n",
        "    def forward(self, x):\n",
        "        x = self.model(x)\n",
        "        return x   "
      ]
    },
    {
      "cell_type": "code",
      "execution_count": 29,
      "metadata": {
        "id": "B53e5IZgY6RU"
      },
      "outputs": [],
      "source": [
        "model = ViTBase16(n_classes=4, pretrained=True)"
      ]
    },
    {
      "cell_type": "code",
      "execution_count": 30,
      "metadata": {
        "id": "t-n8NI44vpcA"
      },
      "outputs": [],
      "source": [
        "device = torch.device(\"cuda\" if torch.cuda.is_available() else \"cpu\")"
      ]
    },
    {
      "cell_type": "code",
      "execution_count": 31,
      "metadata": {
        "colab": {
          "base_uri": "https://localhost:8080/"
        },
        "id": "EMy-OEKUvvaU",
        "outputId": "6a05cc8d-456f-4d89-e668-f0debc5bc8d9"
      },
      "outputs": [
        {
          "data": {
            "text/plain": [
              "device(type='cuda')"
            ]
          },
          "execution_count": 31,
          "metadata": {},
          "output_type": "execute_result"
        }
      ],
      "source": [
        "device"
      ]
    },
    {
      "cell_type": "code",
      "execution_count": 32,
      "metadata": {
        "colab": {
          "base_uri": "https://localhost:8080/"
        },
        "id": "djRJaLSVY9MU",
        "outputId": "5c25b296-ae56-480c-c1a7-dddfe7560f64"
      },
      "outputs": [
        {
          "name": "stdout",
          "output_type": "stream",
          "text": [
            "----------------------------------------------------------------\n",
            "        Layer (type)               Output Shape         Param #\n",
            "================================================================\n",
            "            Conv2d-1          [-1, 768, 14, 14]         590,592\n",
            "          Identity-2             [-1, 196, 768]               0\n",
            "        PatchEmbed-3             [-1, 196, 768]               0\n",
            "           Dropout-4             [-1, 197, 768]               0\n",
            "         LayerNorm-5             [-1, 197, 768]           1,536\n",
            "            Linear-6            [-1, 197, 2304]       1,771,776\n",
            "           Dropout-7         [-1, 12, 197, 197]               0\n",
            "            Linear-8             [-1, 197, 768]         590,592\n",
            "           Dropout-9             [-1, 197, 768]               0\n",
            "        Attention-10             [-1, 197, 768]               0\n",
            "         Identity-11             [-1, 197, 768]               0\n",
            "        LayerNorm-12             [-1, 197, 768]           1,536\n",
            "           Linear-13            [-1, 197, 3072]       2,362,368\n",
            "             GELU-14            [-1, 197, 3072]               0\n",
            "          Dropout-15            [-1, 197, 3072]               0\n",
            "           Linear-16             [-1, 197, 768]       2,360,064\n",
            "          Dropout-17             [-1, 197, 768]               0\n",
            "              Mlp-18             [-1, 197, 768]               0\n",
            "         Identity-19             [-1, 197, 768]               0\n",
            "            Block-20             [-1, 197, 768]               0\n",
            "        LayerNorm-21             [-1, 197, 768]           1,536\n",
            "           Linear-22            [-1, 197, 2304]       1,771,776\n",
            "          Dropout-23         [-1, 12, 197, 197]               0\n",
            "           Linear-24             [-1, 197, 768]         590,592\n",
            "          Dropout-25             [-1, 197, 768]               0\n",
            "        Attention-26             [-1, 197, 768]               0\n",
            "         Identity-27             [-1, 197, 768]               0\n",
            "        LayerNorm-28             [-1, 197, 768]           1,536\n",
            "           Linear-29            [-1, 197, 3072]       2,362,368\n",
            "             GELU-30            [-1, 197, 3072]               0\n",
            "          Dropout-31            [-1, 197, 3072]               0\n",
            "           Linear-32             [-1, 197, 768]       2,360,064\n",
            "          Dropout-33             [-1, 197, 768]               0\n",
            "              Mlp-34             [-1, 197, 768]               0\n",
            "         Identity-35             [-1, 197, 768]               0\n",
            "            Block-36             [-1, 197, 768]               0\n",
            "        LayerNorm-37             [-1, 197, 768]           1,536\n",
            "           Linear-38            [-1, 197, 2304]       1,771,776\n",
            "          Dropout-39         [-1, 12, 197, 197]               0\n",
            "           Linear-40             [-1, 197, 768]         590,592\n",
            "          Dropout-41             [-1, 197, 768]               0\n",
            "        Attention-42             [-1, 197, 768]               0\n",
            "         Identity-43             [-1, 197, 768]               0\n",
            "        LayerNorm-44             [-1, 197, 768]           1,536\n",
            "           Linear-45            [-1, 197, 3072]       2,362,368\n",
            "             GELU-46            [-1, 197, 3072]               0\n",
            "          Dropout-47            [-1, 197, 3072]               0\n",
            "           Linear-48             [-1, 197, 768]       2,360,064\n",
            "          Dropout-49             [-1, 197, 768]               0\n",
            "              Mlp-50             [-1, 197, 768]               0\n",
            "         Identity-51             [-1, 197, 768]               0\n",
            "            Block-52             [-1, 197, 768]               0\n",
            "        LayerNorm-53             [-1, 197, 768]           1,536\n",
            "           Linear-54            [-1, 197, 2304]       1,771,776\n",
            "          Dropout-55         [-1, 12, 197, 197]               0\n",
            "           Linear-56             [-1, 197, 768]         590,592\n",
            "          Dropout-57             [-1, 197, 768]               0\n",
            "        Attention-58             [-1, 197, 768]               0\n",
            "         Identity-59             [-1, 197, 768]               0\n",
            "        LayerNorm-60             [-1, 197, 768]           1,536\n",
            "           Linear-61            [-1, 197, 3072]       2,362,368\n",
            "             GELU-62            [-1, 197, 3072]               0\n",
            "          Dropout-63            [-1, 197, 3072]               0\n",
            "           Linear-64             [-1, 197, 768]       2,360,064\n",
            "          Dropout-65             [-1, 197, 768]               0\n",
            "              Mlp-66             [-1, 197, 768]               0\n",
            "         Identity-67             [-1, 197, 768]               0\n",
            "            Block-68             [-1, 197, 768]               0\n",
            "        LayerNorm-69             [-1, 197, 768]           1,536\n",
            "           Linear-70            [-1, 197, 2304]       1,771,776\n",
            "          Dropout-71         [-1, 12, 197, 197]               0\n",
            "           Linear-72             [-1, 197, 768]         590,592\n",
            "          Dropout-73             [-1, 197, 768]               0\n",
            "        Attention-74             [-1, 197, 768]               0\n",
            "         Identity-75             [-1, 197, 768]               0\n",
            "        LayerNorm-76             [-1, 197, 768]           1,536\n",
            "           Linear-77            [-1, 197, 3072]       2,362,368\n",
            "             GELU-78            [-1, 197, 3072]               0\n",
            "          Dropout-79            [-1, 197, 3072]               0\n",
            "           Linear-80             [-1, 197, 768]       2,360,064\n",
            "          Dropout-81             [-1, 197, 768]               0\n",
            "              Mlp-82             [-1, 197, 768]               0\n",
            "         Identity-83             [-1, 197, 768]               0\n",
            "            Block-84             [-1, 197, 768]               0\n",
            "        LayerNorm-85             [-1, 197, 768]           1,536\n",
            "           Linear-86            [-1, 197, 2304]       1,771,776\n",
            "          Dropout-87         [-1, 12, 197, 197]               0\n",
            "           Linear-88             [-1, 197, 768]         590,592\n",
            "          Dropout-89             [-1, 197, 768]               0\n",
            "        Attention-90             [-1, 197, 768]               0\n",
            "         Identity-91             [-1, 197, 768]               0\n",
            "        LayerNorm-92             [-1, 197, 768]           1,536\n",
            "           Linear-93            [-1, 197, 3072]       2,362,368\n",
            "             GELU-94            [-1, 197, 3072]               0\n",
            "          Dropout-95            [-1, 197, 3072]               0\n",
            "           Linear-96             [-1, 197, 768]       2,360,064\n",
            "          Dropout-97             [-1, 197, 768]               0\n",
            "              Mlp-98             [-1, 197, 768]               0\n",
            "         Identity-99             [-1, 197, 768]               0\n",
            "           Block-100             [-1, 197, 768]               0\n",
            "       LayerNorm-101             [-1, 197, 768]           1,536\n",
            "          Linear-102            [-1, 197, 2304]       1,771,776\n",
            "         Dropout-103         [-1, 12, 197, 197]               0\n",
            "          Linear-104             [-1, 197, 768]         590,592\n",
            "         Dropout-105             [-1, 197, 768]               0\n",
            "       Attention-106             [-1, 197, 768]               0\n",
            "        Identity-107             [-1, 197, 768]               0\n",
            "       LayerNorm-108             [-1, 197, 768]           1,536\n",
            "          Linear-109            [-1, 197, 3072]       2,362,368\n",
            "            GELU-110            [-1, 197, 3072]               0\n",
            "         Dropout-111            [-1, 197, 3072]               0\n",
            "          Linear-112             [-1, 197, 768]       2,360,064\n",
            "         Dropout-113             [-1, 197, 768]               0\n",
            "             Mlp-114             [-1, 197, 768]               0\n",
            "        Identity-115             [-1, 197, 768]               0\n",
            "           Block-116             [-1, 197, 768]               0\n",
            "       LayerNorm-117             [-1, 197, 768]           1,536\n",
            "          Linear-118            [-1, 197, 2304]       1,771,776\n",
            "         Dropout-119         [-1, 12, 197, 197]               0\n",
            "          Linear-120             [-1, 197, 768]         590,592\n",
            "         Dropout-121             [-1, 197, 768]               0\n",
            "       Attention-122             [-1, 197, 768]               0\n",
            "        Identity-123             [-1, 197, 768]               0\n",
            "       LayerNorm-124             [-1, 197, 768]           1,536\n",
            "          Linear-125            [-1, 197, 3072]       2,362,368\n",
            "            GELU-126            [-1, 197, 3072]               0\n",
            "         Dropout-127            [-1, 197, 3072]               0\n",
            "          Linear-128             [-1, 197, 768]       2,360,064\n",
            "         Dropout-129             [-1, 197, 768]               0\n",
            "             Mlp-130             [-1, 197, 768]               0\n",
            "        Identity-131             [-1, 197, 768]               0\n",
            "           Block-132             [-1, 197, 768]               0\n",
            "       LayerNorm-133             [-1, 197, 768]           1,536\n",
            "          Linear-134            [-1, 197, 2304]       1,771,776\n",
            "         Dropout-135         [-1, 12, 197, 197]               0\n",
            "          Linear-136             [-1, 197, 768]         590,592\n",
            "         Dropout-137             [-1, 197, 768]               0\n",
            "       Attention-138             [-1, 197, 768]               0\n",
            "        Identity-139             [-1, 197, 768]               0\n",
            "       LayerNorm-140             [-1, 197, 768]           1,536\n",
            "          Linear-141            [-1, 197, 3072]       2,362,368\n",
            "            GELU-142            [-1, 197, 3072]               0\n",
            "         Dropout-143            [-1, 197, 3072]               0\n",
            "          Linear-144             [-1, 197, 768]       2,360,064\n",
            "         Dropout-145             [-1, 197, 768]               0\n",
            "             Mlp-146             [-1, 197, 768]               0\n",
            "        Identity-147             [-1, 197, 768]               0\n",
            "           Block-148             [-1, 197, 768]               0\n",
            "       LayerNorm-149             [-1, 197, 768]           1,536\n",
            "          Linear-150            [-1, 197, 2304]       1,771,776\n",
            "         Dropout-151         [-1, 12, 197, 197]               0\n",
            "          Linear-152             [-1, 197, 768]         590,592\n",
            "         Dropout-153             [-1, 197, 768]               0\n",
            "       Attention-154             [-1, 197, 768]               0\n",
            "        Identity-155             [-1, 197, 768]               0\n",
            "       LayerNorm-156             [-1, 197, 768]           1,536\n",
            "          Linear-157            [-1, 197, 3072]       2,362,368\n",
            "            GELU-158            [-1, 197, 3072]               0\n",
            "         Dropout-159            [-1, 197, 3072]               0\n",
            "          Linear-160             [-1, 197, 768]       2,360,064\n",
            "         Dropout-161             [-1, 197, 768]               0\n",
            "             Mlp-162             [-1, 197, 768]               0\n",
            "        Identity-163             [-1, 197, 768]               0\n",
            "           Block-164             [-1, 197, 768]               0\n",
            "       LayerNorm-165             [-1, 197, 768]           1,536\n",
            "          Linear-166            [-1, 197, 2304]       1,771,776\n",
            "         Dropout-167         [-1, 12, 197, 197]               0\n",
            "          Linear-168             [-1, 197, 768]         590,592\n",
            "         Dropout-169             [-1, 197, 768]               0\n",
            "       Attention-170             [-1, 197, 768]               0\n",
            "        Identity-171             [-1, 197, 768]               0\n",
            "       LayerNorm-172             [-1, 197, 768]           1,536\n",
            "          Linear-173            [-1, 197, 3072]       2,362,368\n",
            "            GELU-174            [-1, 197, 3072]               0\n",
            "         Dropout-175            [-1, 197, 3072]               0\n",
            "          Linear-176             [-1, 197, 768]       2,360,064\n",
            "         Dropout-177             [-1, 197, 768]               0\n",
            "             Mlp-178             [-1, 197, 768]               0\n",
            "        Identity-179             [-1, 197, 768]               0\n",
            "           Block-180             [-1, 197, 768]               0\n",
            "       LayerNorm-181             [-1, 197, 768]           1,536\n",
            "          Linear-182            [-1, 197, 2304]       1,771,776\n",
            "         Dropout-183         [-1, 12, 197, 197]               0\n",
            "          Linear-184             [-1, 197, 768]         590,592\n",
            "         Dropout-185             [-1, 197, 768]               0\n",
            "       Attention-186             [-1, 197, 768]               0\n",
            "        Identity-187             [-1, 197, 768]               0\n",
            "       LayerNorm-188             [-1, 197, 768]           1,536\n",
            "          Linear-189            [-1, 197, 3072]       2,362,368\n",
            "            GELU-190            [-1, 197, 3072]               0\n",
            "         Dropout-191            [-1, 197, 3072]               0\n",
            "          Linear-192             [-1, 197, 768]       2,360,064\n",
            "         Dropout-193             [-1, 197, 768]               0\n",
            "             Mlp-194             [-1, 197, 768]               0\n",
            "        Identity-195             [-1, 197, 768]               0\n",
            "           Block-196             [-1, 197, 768]               0\n",
            "       LayerNorm-197             [-1, 197, 768]           1,536\n",
            "        Identity-198                  [-1, 768]               0\n",
            "          Linear-199                    [-1, 4]           3,076\n",
            "VisionTransformer-200                    [-1, 4]               0\n",
            "================================================================\n",
            "Total params: 85,649,668\n",
            "Trainable params: 85,649,668\n",
            "Non-trainable params: 0\n",
            "----------------------------------------------------------------\n",
            "Input size (MB): 0.57\n",
            "Forward/backward pass size (MB): 408.54\n",
            "Params size (MB): 326.73\n",
            "Estimated Total Size (MB): 735.84\n",
            "----------------------------------------------------------------\n"
          ]
        }
      ],
      "source": [
        "from torchsummary import summary\n",
        "model = model.to(device)\n",
        "summary(model, (3, 224, 224))"
      ]
    },
    {
      "cell_type": "code",
      "execution_count": 33,
      "metadata": {
        "colab": {
          "base_uri": "https://localhost:8080/"
        },
        "id": "_NsM6Fmo7o9A",
        "outputId": "873cb8d8-db26-45f0-fe83-bdb4f2730998"
      },
      "outputs": [
        {
          "data": {
            "text/plain": [
              "tensor([[ 0.1194, -0.3900,  0.1505, -0.5583],\n",
              "        [-0.0322,  0.3261,  0.0498,  0.1794],\n",
              "        [ 0.1753, -0.3765, -0.2668, -0.5543],\n",
              "        [ 0.5268, -0.4686,  0.6782,  0.4360],\n",
              "        [ 0.2178, -0.6117,  0.1143, -0.5424],\n",
              "        [-0.1976, -0.3004,  0.1406,  0.2453],\n",
              "        [-0.2154, -0.3759, -0.0427,  0.3615],\n",
              "        [ 0.0050, -0.6890,  0.1830, -0.3861],\n",
              "        [-0.7695, -0.0184, -0.3533,  0.0697],\n",
              "        [-0.4051, -0.3870,  0.2043,  0.0884],\n",
              "        [-0.4978, -0.7828, -0.1486,  0.3260],\n",
              "        [ 0.5500, -0.1505,  0.2793, -0.3788],\n",
              "        [-0.0877, -0.6342, -0.2530, -0.1161],\n",
              "        [ 0.3461, -0.1894,  0.5625, -0.0810],\n",
              "        [ 0.0796, -0.0666, -0.7042, -0.3583],\n",
              "        [ 0.9054, -0.1226,  0.3087, -0.2903]], device='cuda:0',\n",
              "       grad_fn=<AddmmBackward0>)"
            ]
          },
          "execution_count": 33,
          "metadata": {},
          "output_type": "execute_result"
        }
      ],
      "source": [
        "pred = model(data.to(device))\n",
        "pred"
      ]
    },
    {
      "cell_type": "code",
      "execution_count": 36,
      "metadata": {
        "colab": {
          "base_uri": "https://localhost:8080/"
        },
        "id": "A8k2xJ4o7vIk",
        "outputId": "e8bf0892-b62b-4301-b595-a562b1ac4a7a"
      },
      "outputs": [
        {
          "data": {
            "text/plain": [
              "torch.Size([16])"
            ]
          },
          "execution_count": 36,
          "metadata": {},
          "output_type": "execute_result"
        }
      ],
      "source": [
        "label.shape"
      ]
    },
    {
      "cell_type": "code",
      "execution_count": 37,
      "metadata": {
        "colab": {
          "base_uri": "https://localhost:8080/"
        },
        "id": "okUsH7RR7xo-",
        "outputId": "69acab4a-56e5-4799-a2e0-6189734aa008"
      },
      "outputs": [
        {
          "data": {
            "text/plain": [
              "torch.Size([16, 4])"
            ]
          },
          "execution_count": 37,
          "metadata": {},
          "output_type": "execute_result"
        }
      ],
      "source": [
        "pred.shape"
      ]
    },
    {
      "cell_type": "code",
      "execution_count": 39,
      "metadata": {
        "colab": {
          "base_uri": "https://localhost:8080/"
        },
        "id": "QmumFzdXH8TA",
        "outputId": "01f87b48-42e1-4eff-8fc6-bffb4e0d44f2"
      },
      "outputs": [
        {
          "name": "stdout",
          "output_type": "stream",
          "text": [
            "tensor(1.2557, device='cuda:0', grad_fn=<NllLossBackward0>)\n"
          ]
        }
      ],
      "source": [
        "criterion = nn.CrossEntropyLoss()\n",
        "print(criterion(pred, label.to(device)))"
      ]
    },
    {
      "cell_type": "code",
      "execution_count": 40,
      "metadata": {
        "colab": {
          "base_uri": "https://localhost:8080/"
        },
        "id": "qiPV66oAyZmK",
        "outputId": "66d5ecd2-f89e-4f80-dd4a-8380c5ed3db2"
      },
      "outputs": [
        {
          "data": {
            "text/plain": [
              "torch.Size([3, 224, 224])"
            ]
          },
          "execution_count": 40,
          "metadata": {},
          "output_type": "execute_result"
        }
      ],
      "source": [
        "data[0].shape"
      ]
    },
    {
      "cell_type": "code",
      "execution_count": 41,
      "metadata": {
        "id": "LfJx-1alr5YN"
      },
      "outputs": [],
      "source": [
        "# Checking the model performance with out any training, on training set, so that we can \n",
        "# Conclude Later during that the model is atleast converging later on\n",
        "baseline_train_loss = 0.0\n",
        "baseline_train_accuracy = 0.0\n",
        "criterion = nn.CrossEntropyLoss()\n",
        "with torch.no_grad():\n",
        "  model.eval()\n",
        "  for data, target in train_loader:\n",
        "    data, target = data.to(device, dtype=torch.float32), target.to(device, dtype=torch.int64)\n",
        "    \n",
        "    # forward pass: compute predicted outputs by passing inputs to the model\n",
        "    output = model(data)\n",
        "\n",
        "    # calculate the batch loss\n",
        "    loss = criterion(output, target)\n",
        "    \n",
        "    # Calculate Accuracy\n",
        "    accuracy = (output.argmax(dim=1) == target).float().mean()\n",
        "    \n",
        "    # update training loss and accuracy\n",
        "    baseline_train_loss += loss\n",
        "    baseline_train_accuracy += accuracy"
      ]
    },
    {
      "cell_type": "code",
      "execution_count": 42,
      "metadata": {
        "colab": {
          "base_uri": "https://localhost:8080/"
        },
        "id": "nrzRZIrrt-DG",
        "outputId": "d425942b-487e-4b54-9234-9bfeae54aead"
      },
      "outputs": [
        {
          "name": "stdout",
          "output_type": "stream",
          "text": [
            "Total training batches = 564\n",
            "Baseline Training Data Loss = 1.3190544843673706\n",
            "Baseline Training Data Accuracy = 34.443702697753906 %\n"
          ]
        }
      ],
      "source": [
        "print(\"Total training batches = {}\".format(len(train_loader)))\n",
        "print(\"Baseline Training Data Loss = {}\".format(baseline_train_loss/len(train_loader)))\n",
        "print(\"Baseline Training Data Accuracy = {} %\".format(100*baseline_train_accuracy/len(train_loader)))"
      ]
    },
    {
      "cell_type": "code",
      "execution_count": 43,
      "metadata": {
        "id": "vMtoA_s8wJ_l"
      },
      "outputs": [],
      "source": [
        "baseline_valid_loss = 0.0\n",
        "baseline_valid_accuracy = 0.0\n",
        "with torch.no_grad():\n",
        "  model.eval()\n",
        "  for data, target in valid_loader:\n",
        "    data, target = data.to(device, dtype=torch.float32), target.to(device, dtype=torch.int64)\n",
        "    \n",
        "    # forward pass: compute predicted outputs by passing inputs to the model\n",
        "    output = model(data)\n",
        "\n",
        "    # calculate the batch loss\n",
        "    loss = criterion(output, target)\n",
        "    \n",
        "    # Calculate Accuracy\n",
        "    accuracy = (output.argmax(dim=1) == target).float().mean()\n",
        "    \n",
        "    # update training loss and accuracy\n",
        "    baseline_valid_loss += loss\n",
        "    baseline_valid_accuracy += accuracy"
      ]
    },
    {
      "cell_type": "code",
      "execution_count": 44,
      "metadata": {
        "colab": {
          "base_uri": "https://localhost:8080/"
        },
        "id": "mhhOFjKxwguw",
        "outputId": "62c90100-328b-4828-e888-328d431d543e"
      },
      "outputs": [
        {
          "name": "stdout",
          "output_type": "stream",
          "text": [
            "Total training batches = 71\n",
            "Baseline Validation Data Loss = 1.3233730792999268\n",
            "Baseline Validation Data Accuracy = 36.35563278198242 %\n"
          ]
        }
      ],
      "source": [
        "print(\"Total training batches = {}\".format(len(valid_loader)))\n",
        "print(\"Baseline Validation Data Loss = {}\".format(baseline_valid_loss/len(valid_loader)))\n",
        "print(\"Baseline Validation Data Accuracy = {} %\".format(100*baseline_valid_accuracy/len(valid_loader)))"
      ]
    },
    {
      "cell_type": "code",
      "execution_count": 45,
      "metadata": {
        "colab": {
          "base_uri": "https://localhost:8080/"
        },
        "id": "PTBe5ay5733J",
        "outputId": "8a79646b-8fcd-4247-a0f8-46cb5d7d2659"
      },
      "outputs": [
        {
          "data": {
            "text/plain": [
              "torch.Size([3, 224, 224])"
            ]
          },
          "execution_count": 45,
          "metadata": {},
          "output_type": "execute_result"
        }
      ],
      "source": [
        "data[0].shape"
      ]
    },
    {
      "cell_type": "code",
      "execution_count": 46,
      "metadata": {
        "colab": {
          "base_uri": "https://localhost:8080/"
        },
        "id": "AF9wOml18Ew4",
        "outputId": "c57ed18d-0f0f-4046-ee23-a21cd639fdb2"
      },
      "outputs": [
        {
          "data": {
            "text/plain": [
              "tensor(-2.1179, device='cuda:0')"
            ]
          },
          "execution_count": 46,
          "metadata": {},
          "output_type": "execute_result"
        }
      ],
      "source": [
        "data.min()"
      ]
    },
    {
      "cell_type": "code",
      "execution_count": 47,
      "metadata": {
        "colab": {
          "base_uri": "https://localhost:8080/"
        },
        "id": "PrrOQmZ98Gm4",
        "outputId": "3ddc48e3-0b1e-4065-9c11-2f2a86915f74"
      },
      "outputs": [
        {
          "data": {
            "text/plain": [
              "tensor(2.1975, device='cuda:0')"
            ]
          },
          "execution_count": 47,
          "metadata": {},
          "output_type": "execute_result"
        }
      ],
      "source": [
        "data.max()"
      ]
    },
    {
      "cell_type": "code",
      "execution_count": 48,
      "metadata": {
        "id": "6HOprS49NXUo"
      },
      "outputs": [],
      "source": [
        "for param in model.parameters():\n",
        "  param.requires_grad = False"
      ]
    },
    {
      "cell_type": "code",
      "execution_count": 49,
      "metadata": {
        "colab": {
          "base_uri": "https://localhost:8080/"
        },
        "id": "l9gd8V84NXOJ",
        "outputId": "ffceac69-08b5-47fe-8f62-a05485d5caec"
      },
      "outputs": [
        {
          "name": "stdout",
          "output_type": "stream",
          "text": [
            "----------------------------------------------------------------\n",
            "        Layer (type)               Output Shape         Param #\n",
            "================================================================\n",
            "            Conv2d-1          [-1, 768, 14, 14]         590,592\n",
            "          Identity-2             [-1, 196, 768]               0\n",
            "        PatchEmbed-3             [-1, 196, 768]               0\n",
            "           Dropout-4             [-1, 197, 768]               0\n",
            "         LayerNorm-5             [-1, 197, 768]           1,536\n",
            "            Linear-6            [-1, 197, 2304]       1,771,776\n",
            "           Dropout-7         [-1, 12, 197, 197]               0\n",
            "            Linear-8             [-1, 197, 768]         590,592\n",
            "           Dropout-9             [-1, 197, 768]               0\n",
            "        Attention-10             [-1, 197, 768]               0\n",
            "         Identity-11             [-1, 197, 768]               0\n",
            "        LayerNorm-12             [-1, 197, 768]           1,536\n",
            "           Linear-13            [-1, 197, 3072]       2,362,368\n",
            "             GELU-14            [-1, 197, 3072]               0\n",
            "          Dropout-15            [-1, 197, 3072]               0\n",
            "           Linear-16             [-1, 197, 768]       2,360,064\n",
            "          Dropout-17             [-1, 197, 768]               0\n",
            "              Mlp-18             [-1, 197, 768]               0\n",
            "         Identity-19             [-1, 197, 768]               0\n",
            "            Block-20             [-1, 197, 768]               0\n",
            "        LayerNorm-21             [-1, 197, 768]           1,536\n",
            "           Linear-22            [-1, 197, 2304]       1,771,776\n",
            "          Dropout-23         [-1, 12, 197, 197]               0\n",
            "           Linear-24             [-1, 197, 768]         590,592\n",
            "          Dropout-25             [-1, 197, 768]               0\n",
            "        Attention-26             [-1, 197, 768]               0\n",
            "         Identity-27             [-1, 197, 768]               0\n",
            "        LayerNorm-28             [-1, 197, 768]           1,536\n",
            "           Linear-29            [-1, 197, 3072]       2,362,368\n",
            "             GELU-30            [-1, 197, 3072]               0\n",
            "          Dropout-31            [-1, 197, 3072]               0\n",
            "           Linear-32             [-1, 197, 768]       2,360,064\n",
            "          Dropout-33             [-1, 197, 768]               0\n",
            "              Mlp-34             [-1, 197, 768]               0\n",
            "         Identity-35             [-1, 197, 768]               0\n",
            "            Block-36             [-1, 197, 768]               0\n",
            "        LayerNorm-37             [-1, 197, 768]           1,536\n",
            "           Linear-38            [-1, 197, 2304]       1,771,776\n",
            "          Dropout-39         [-1, 12, 197, 197]               0\n",
            "           Linear-40             [-1, 197, 768]         590,592\n",
            "          Dropout-41             [-1, 197, 768]               0\n",
            "        Attention-42             [-1, 197, 768]               0\n",
            "         Identity-43             [-1, 197, 768]               0\n",
            "        LayerNorm-44             [-1, 197, 768]           1,536\n",
            "           Linear-45            [-1, 197, 3072]       2,362,368\n",
            "             GELU-46            [-1, 197, 3072]               0\n",
            "          Dropout-47            [-1, 197, 3072]               0\n",
            "           Linear-48             [-1, 197, 768]       2,360,064\n",
            "          Dropout-49             [-1, 197, 768]               0\n",
            "              Mlp-50             [-1, 197, 768]               0\n",
            "         Identity-51             [-1, 197, 768]               0\n",
            "            Block-52             [-1, 197, 768]               0\n",
            "        LayerNorm-53             [-1, 197, 768]           1,536\n",
            "           Linear-54            [-1, 197, 2304]       1,771,776\n",
            "          Dropout-55         [-1, 12, 197, 197]               0\n",
            "           Linear-56             [-1, 197, 768]         590,592\n",
            "          Dropout-57             [-1, 197, 768]               0\n",
            "        Attention-58             [-1, 197, 768]               0\n",
            "         Identity-59             [-1, 197, 768]               0\n",
            "        LayerNorm-60             [-1, 197, 768]           1,536\n",
            "           Linear-61            [-1, 197, 3072]       2,362,368\n",
            "             GELU-62            [-1, 197, 3072]               0\n",
            "          Dropout-63            [-1, 197, 3072]               0\n",
            "           Linear-64             [-1, 197, 768]       2,360,064\n",
            "          Dropout-65             [-1, 197, 768]               0\n",
            "              Mlp-66             [-1, 197, 768]               0\n",
            "         Identity-67             [-1, 197, 768]               0\n",
            "            Block-68             [-1, 197, 768]               0\n",
            "        LayerNorm-69             [-1, 197, 768]           1,536\n",
            "           Linear-70            [-1, 197, 2304]       1,771,776\n",
            "          Dropout-71         [-1, 12, 197, 197]               0\n",
            "           Linear-72             [-1, 197, 768]         590,592\n",
            "          Dropout-73             [-1, 197, 768]               0\n",
            "        Attention-74             [-1, 197, 768]               0\n",
            "         Identity-75             [-1, 197, 768]               0\n",
            "        LayerNorm-76             [-1, 197, 768]           1,536\n",
            "           Linear-77            [-1, 197, 3072]       2,362,368\n",
            "             GELU-78            [-1, 197, 3072]               0\n",
            "          Dropout-79            [-1, 197, 3072]               0\n",
            "           Linear-80             [-1, 197, 768]       2,360,064\n",
            "          Dropout-81             [-1, 197, 768]               0\n",
            "              Mlp-82             [-1, 197, 768]               0\n",
            "         Identity-83             [-1, 197, 768]               0\n",
            "            Block-84             [-1, 197, 768]               0\n",
            "        LayerNorm-85             [-1, 197, 768]           1,536\n",
            "           Linear-86            [-1, 197, 2304]       1,771,776\n",
            "          Dropout-87         [-1, 12, 197, 197]               0\n",
            "           Linear-88             [-1, 197, 768]         590,592\n",
            "          Dropout-89             [-1, 197, 768]               0\n",
            "        Attention-90             [-1, 197, 768]               0\n",
            "         Identity-91             [-1, 197, 768]               0\n",
            "        LayerNorm-92             [-1, 197, 768]           1,536\n",
            "           Linear-93            [-1, 197, 3072]       2,362,368\n",
            "             GELU-94            [-1, 197, 3072]               0\n",
            "          Dropout-95            [-1, 197, 3072]               0\n",
            "           Linear-96             [-1, 197, 768]       2,360,064\n",
            "          Dropout-97             [-1, 197, 768]               0\n",
            "              Mlp-98             [-1, 197, 768]               0\n",
            "         Identity-99             [-1, 197, 768]               0\n",
            "           Block-100             [-1, 197, 768]               0\n",
            "       LayerNorm-101             [-1, 197, 768]           1,536\n",
            "          Linear-102            [-1, 197, 2304]       1,771,776\n",
            "         Dropout-103         [-1, 12, 197, 197]               0\n",
            "          Linear-104             [-1, 197, 768]         590,592\n",
            "         Dropout-105             [-1, 197, 768]               0\n",
            "       Attention-106             [-1, 197, 768]               0\n",
            "        Identity-107             [-1, 197, 768]               0\n",
            "       LayerNorm-108             [-1, 197, 768]           1,536\n",
            "          Linear-109            [-1, 197, 3072]       2,362,368\n",
            "            GELU-110            [-1, 197, 3072]               0\n",
            "         Dropout-111            [-1, 197, 3072]               0\n",
            "          Linear-112             [-1, 197, 768]       2,360,064\n",
            "         Dropout-113             [-1, 197, 768]               0\n",
            "             Mlp-114             [-1, 197, 768]               0\n",
            "        Identity-115             [-1, 197, 768]               0\n",
            "           Block-116             [-1, 197, 768]               0\n",
            "       LayerNorm-117             [-1, 197, 768]           1,536\n",
            "          Linear-118            [-1, 197, 2304]       1,771,776\n",
            "         Dropout-119         [-1, 12, 197, 197]               0\n",
            "          Linear-120             [-1, 197, 768]         590,592\n",
            "         Dropout-121             [-1, 197, 768]               0\n",
            "       Attention-122             [-1, 197, 768]               0\n",
            "        Identity-123             [-1, 197, 768]               0\n",
            "       LayerNorm-124             [-1, 197, 768]           1,536\n",
            "          Linear-125            [-1, 197, 3072]       2,362,368\n",
            "            GELU-126            [-1, 197, 3072]               0\n",
            "         Dropout-127            [-1, 197, 3072]               0\n",
            "          Linear-128             [-1, 197, 768]       2,360,064\n",
            "         Dropout-129             [-1, 197, 768]               0\n",
            "             Mlp-130             [-1, 197, 768]               0\n",
            "        Identity-131             [-1, 197, 768]               0\n",
            "           Block-132             [-1, 197, 768]               0\n",
            "       LayerNorm-133             [-1, 197, 768]           1,536\n",
            "          Linear-134            [-1, 197, 2304]       1,771,776\n",
            "         Dropout-135         [-1, 12, 197, 197]               0\n",
            "          Linear-136             [-1, 197, 768]         590,592\n",
            "         Dropout-137             [-1, 197, 768]               0\n",
            "       Attention-138             [-1, 197, 768]               0\n",
            "        Identity-139             [-1, 197, 768]               0\n",
            "       LayerNorm-140             [-1, 197, 768]           1,536\n",
            "          Linear-141            [-1, 197, 3072]       2,362,368\n",
            "            GELU-142            [-1, 197, 3072]               0\n",
            "         Dropout-143            [-1, 197, 3072]               0\n",
            "          Linear-144             [-1, 197, 768]       2,360,064\n",
            "         Dropout-145             [-1, 197, 768]               0\n",
            "             Mlp-146             [-1, 197, 768]               0\n",
            "        Identity-147             [-1, 197, 768]               0\n",
            "           Block-148             [-1, 197, 768]               0\n",
            "       LayerNorm-149             [-1, 197, 768]           1,536\n",
            "          Linear-150            [-1, 197, 2304]       1,771,776\n",
            "         Dropout-151         [-1, 12, 197, 197]               0\n",
            "          Linear-152             [-1, 197, 768]         590,592\n",
            "         Dropout-153             [-1, 197, 768]               0\n",
            "       Attention-154             [-1, 197, 768]               0\n",
            "        Identity-155             [-1, 197, 768]               0\n",
            "       LayerNorm-156             [-1, 197, 768]           1,536\n",
            "          Linear-157            [-1, 197, 3072]       2,362,368\n",
            "            GELU-158            [-1, 197, 3072]               0\n",
            "         Dropout-159            [-1, 197, 3072]               0\n",
            "          Linear-160             [-1, 197, 768]       2,360,064\n",
            "         Dropout-161             [-1, 197, 768]               0\n",
            "             Mlp-162             [-1, 197, 768]               0\n",
            "        Identity-163             [-1, 197, 768]               0\n",
            "           Block-164             [-1, 197, 768]               0\n",
            "       LayerNorm-165             [-1, 197, 768]           1,536\n",
            "          Linear-166            [-1, 197, 2304]       1,771,776\n",
            "         Dropout-167         [-1, 12, 197, 197]               0\n",
            "          Linear-168             [-1, 197, 768]         590,592\n",
            "         Dropout-169             [-1, 197, 768]               0\n",
            "       Attention-170             [-1, 197, 768]               0\n",
            "        Identity-171             [-1, 197, 768]               0\n",
            "       LayerNorm-172             [-1, 197, 768]           1,536\n",
            "          Linear-173            [-1, 197, 3072]       2,362,368\n",
            "            GELU-174            [-1, 197, 3072]               0\n",
            "         Dropout-175            [-1, 197, 3072]               0\n",
            "          Linear-176             [-1, 197, 768]       2,360,064\n",
            "         Dropout-177             [-1, 197, 768]               0\n",
            "             Mlp-178             [-1, 197, 768]               0\n",
            "        Identity-179             [-1, 197, 768]               0\n",
            "           Block-180             [-1, 197, 768]               0\n",
            "       LayerNorm-181             [-1, 197, 768]           1,536\n",
            "          Linear-182            [-1, 197, 2304]       1,771,776\n",
            "         Dropout-183         [-1, 12, 197, 197]               0\n",
            "          Linear-184             [-1, 197, 768]         590,592\n",
            "         Dropout-185             [-1, 197, 768]               0\n",
            "       Attention-186             [-1, 197, 768]               0\n",
            "        Identity-187             [-1, 197, 768]               0\n",
            "       LayerNorm-188             [-1, 197, 768]           1,536\n",
            "          Linear-189            [-1, 197, 3072]       2,362,368\n",
            "            GELU-190            [-1, 197, 3072]               0\n",
            "         Dropout-191            [-1, 197, 3072]               0\n",
            "          Linear-192             [-1, 197, 768]       2,360,064\n",
            "         Dropout-193             [-1, 197, 768]               0\n",
            "             Mlp-194             [-1, 197, 768]               0\n",
            "        Identity-195             [-1, 197, 768]               0\n",
            "           Block-196             [-1, 197, 768]               0\n",
            "       LayerNorm-197             [-1, 197, 768]           1,536\n",
            "        Identity-198                  [-1, 768]               0\n",
            "          Linear-199                    [-1, 4]           3,076\n",
            "VisionTransformer-200                    [-1, 4]               0\n",
            "================================================================\n",
            "Total params: 85,649,668\n",
            "Trainable params: 0\n",
            "Non-trainable params: 85,649,668\n",
            "----------------------------------------------------------------\n",
            "Input size (MB): 0.57\n",
            "Forward/backward pass size (MB): 408.54\n",
            "Params size (MB): 326.73\n",
            "Estimated Total Size (MB): 735.84\n",
            "----------------------------------------------------------------\n"
          ]
        }
      ],
      "source": [
        "summary(model, (3, 224, 224))"
      ]
    },
    {
      "cell_type": "code",
      "execution_count": 50,
      "metadata": {
        "colab": {
          "base_uri": "https://localhost:8080/"
        },
        "id": "2nqwPoUgNXLO",
        "outputId": "a743332a-3620-4ee7-ea2e-d3b19bd9a5a8"
      },
      "outputs": [
        {
          "name": "stdout",
          "output_type": "stream",
          "text": [
            "----------------------------------------------------------------\n",
            "        Layer (type)               Output Shape         Param #\n",
            "================================================================\n",
            "            Conv2d-1          [-1, 768, 14, 14]         590,592\n",
            "          Identity-2             [-1, 196, 768]               0\n",
            "        PatchEmbed-3             [-1, 196, 768]               0\n",
            "           Dropout-4             [-1, 197, 768]               0\n",
            "         LayerNorm-5             [-1, 197, 768]           1,536\n",
            "            Linear-6            [-1, 197, 2304]       1,771,776\n",
            "           Dropout-7         [-1, 12, 197, 197]               0\n",
            "            Linear-8             [-1, 197, 768]         590,592\n",
            "           Dropout-9             [-1, 197, 768]               0\n",
            "        Attention-10             [-1, 197, 768]               0\n",
            "         Identity-11             [-1, 197, 768]               0\n",
            "        LayerNorm-12             [-1, 197, 768]           1,536\n",
            "           Linear-13            [-1, 197, 3072]       2,362,368\n",
            "             GELU-14            [-1, 197, 3072]               0\n",
            "          Dropout-15            [-1, 197, 3072]               0\n",
            "           Linear-16             [-1, 197, 768]       2,360,064\n",
            "          Dropout-17             [-1, 197, 768]               0\n",
            "              Mlp-18             [-1, 197, 768]               0\n",
            "         Identity-19             [-1, 197, 768]               0\n",
            "            Block-20             [-1, 197, 768]               0\n",
            "        LayerNorm-21             [-1, 197, 768]           1,536\n",
            "           Linear-22            [-1, 197, 2304]       1,771,776\n",
            "          Dropout-23         [-1, 12, 197, 197]               0\n",
            "           Linear-24             [-1, 197, 768]         590,592\n",
            "          Dropout-25             [-1, 197, 768]               0\n",
            "        Attention-26             [-1, 197, 768]               0\n",
            "         Identity-27             [-1, 197, 768]               0\n",
            "        LayerNorm-28             [-1, 197, 768]           1,536\n",
            "           Linear-29            [-1, 197, 3072]       2,362,368\n",
            "             GELU-30            [-1, 197, 3072]               0\n",
            "          Dropout-31            [-1, 197, 3072]               0\n",
            "           Linear-32             [-1, 197, 768]       2,360,064\n",
            "          Dropout-33             [-1, 197, 768]               0\n",
            "              Mlp-34             [-1, 197, 768]               0\n",
            "         Identity-35             [-1, 197, 768]               0\n",
            "            Block-36             [-1, 197, 768]               0\n",
            "        LayerNorm-37             [-1, 197, 768]           1,536\n",
            "           Linear-38            [-1, 197, 2304]       1,771,776\n",
            "          Dropout-39         [-1, 12, 197, 197]               0\n",
            "           Linear-40             [-1, 197, 768]         590,592\n",
            "          Dropout-41             [-1, 197, 768]               0\n",
            "        Attention-42             [-1, 197, 768]               0\n",
            "         Identity-43             [-1, 197, 768]               0\n",
            "        LayerNorm-44             [-1, 197, 768]           1,536\n",
            "           Linear-45            [-1, 197, 3072]       2,362,368\n",
            "             GELU-46            [-1, 197, 3072]               0\n",
            "          Dropout-47            [-1, 197, 3072]               0\n",
            "           Linear-48             [-1, 197, 768]       2,360,064\n",
            "          Dropout-49             [-1, 197, 768]               0\n",
            "              Mlp-50             [-1, 197, 768]               0\n",
            "         Identity-51             [-1, 197, 768]               0\n",
            "            Block-52             [-1, 197, 768]               0\n",
            "        LayerNorm-53             [-1, 197, 768]           1,536\n",
            "           Linear-54            [-1, 197, 2304]       1,771,776\n",
            "          Dropout-55         [-1, 12, 197, 197]               0\n",
            "           Linear-56             [-1, 197, 768]         590,592\n",
            "          Dropout-57             [-1, 197, 768]               0\n",
            "        Attention-58             [-1, 197, 768]               0\n",
            "         Identity-59             [-1, 197, 768]               0\n",
            "        LayerNorm-60             [-1, 197, 768]           1,536\n",
            "           Linear-61            [-1, 197, 3072]       2,362,368\n",
            "             GELU-62            [-1, 197, 3072]               0\n",
            "          Dropout-63            [-1, 197, 3072]               0\n",
            "           Linear-64             [-1, 197, 768]       2,360,064\n",
            "          Dropout-65             [-1, 197, 768]               0\n",
            "              Mlp-66             [-1, 197, 768]               0\n",
            "         Identity-67             [-1, 197, 768]               0\n",
            "            Block-68             [-1, 197, 768]               0\n",
            "        LayerNorm-69             [-1, 197, 768]           1,536\n",
            "           Linear-70            [-1, 197, 2304]       1,771,776\n",
            "          Dropout-71         [-1, 12, 197, 197]               0\n",
            "           Linear-72             [-1, 197, 768]         590,592\n",
            "          Dropout-73             [-1, 197, 768]               0\n",
            "        Attention-74             [-1, 197, 768]               0\n",
            "         Identity-75             [-1, 197, 768]               0\n",
            "        LayerNorm-76             [-1, 197, 768]           1,536\n",
            "           Linear-77            [-1, 197, 3072]       2,362,368\n",
            "             GELU-78            [-1, 197, 3072]               0\n",
            "          Dropout-79            [-1, 197, 3072]               0\n",
            "           Linear-80             [-1, 197, 768]       2,360,064\n",
            "          Dropout-81             [-1, 197, 768]               0\n",
            "              Mlp-82             [-1, 197, 768]               0\n",
            "         Identity-83             [-1, 197, 768]               0\n",
            "            Block-84             [-1, 197, 768]               0\n",
            "        LayerNorm-85             [-1, 197, 768]           1,536\n",
            "           Linear-86            [-1, 197, 2304]       1,771,776\n",
            "          Dropout-87         [-1, 12, 197, 197]               0\n",
            "           Linear-88             [-1, 197, 768]         590,592\n",
            "          Dropout-89             [-1, 197, 768]               0\n",
            "        Attention-90             [-1, 197, 768]               0\n",
            "         Identity-91             [-1, 197, 768]               0\n",
            "        LayerNorm-92             [-1, 197, 768]           1,536\n",
            "           Linear-93            [-1, 197, 3072]       2,362,368\n",
            "             GELU-94            [-1, 197, 3072]               0\n",
            "          Dropout-95            [-1, 197, 3072]               0\n",
            "           Linear-96             [-1, 197, 768]       2,360,064\n",
            "          Dropout-97             [-1, 197, 768]               0\n",
            "              Mlp-98             [-1, 197, 768]               0\n",
            "         Identity-99             [-1, 197, 768]               0\n",
            "           Block-100             [-1, 197, 768]               0\n",
            "       LayerNorm-101             [-1, 197, 768]           1,536\n",
            "          Linear-102            [-1, 197, 2304]       1,771,776\n",
            "         Dropout-103         [-1, 12, 197, 197]               0\n",
            "          Linear-104             [-1, 197, 768]         590,592\n",
            "         Dropout-105             [-1, 197, 768]               0\n",
            "       Attention-106             [-1, 197, 768]               0\n",
            "        Identity-107             [-1, 197, 768]               0\n",
            "       LayerNorm-108             [-1, 197, 768]           1,536\n",
            "          Linear-109            [-1, 197, 3072]       2,362,368\n",
            "            GELU-110            [-1, 197, 3072]               0\n",
            "         Dropout-111            [-1, 197, 3072]               0\n",
            "          Linear-112             [-1, 197, 768]       2,360,064\n",
            "         Dropout-113             [-1, 197, 768]               0\n",
            "             Mlp-114             [-1, 197, 768]               0\n",
            "        Identity-115             [-1, 197, 768]               0\n",
            "           Block-116             [-1, 197, 768]               0\n",
            "       LayerNorm-117             [-1, 197, 768]           1,536\n",
            "          Linear-118            [-1, 197, 2304]       1,771,776\n",
            "         Dropout-119         [-1, 12, 197, 197]               0\n",
            "          Linear-120             [-1, 197, 768]         590,592\n",
            "         Dropout-121             [-1, 197, 768]               0\n",
            "       Attention-122             [-1, 197, 768]               0\n",
            "        Identity-123             [-1, 197, 768]               0\n",
            "       LayerNorm-124             [-1, 197, 768]           1,536\n",
            "          Linear-125            [-1, 197, 3072]       2,362,368\n",
            "            GELU-126            [-1, 197, 3072]               0\n",
            "         Dropout-127            [-1, 197, 3072]               0\n",
            "          Linear-128             [-1, 197, 768]       2,360,064\n",
            "         Dropout-129             [-1, 197, 768]               0\n",
            "             Mlp-130             [-1, 197, 768]               0\n",
            "        Identity-131             [-1, 197, 768]               0\n",
            "           Block-132             [-1, 197, 768]               0\n",
            "       LayerNorm-133             [-1, 197, 768]           1,536\n",
            "          Linear-134            [-1, 197, 2304]       1,771,776\n",
            "         Dropout-135         [-1, 12, 197, 197]               0\n",
            "          Linear-136             [-1, 197, 768]         590,592\n",
            "         Dropout-137             [-1, 197, 768]               0\n",
            "       Attention-138             [-1, 197, 768]               0\n",
            "        Identity-139             [-1, 197, 768]               0\n",
            "       LayerNorm-140             [-1, 197, 768]           1,536\n",
            "          Linear-141            [-1, 197, 3072]       2,362,368\n",
            "            GELU-142            [-1, 197, 3072]               0\n",
            "         Dropout-143            [-1, 197, 3072]               0\n",
            "          Linear-144             [-1, 197, 768]       2,360,064\n",
            "         Dropout-145             [-1, 197, 768]               0\n",
            "             Mlp-146             [-1, 197, 768]               0\n",
            "        Identity-147             [-1, 197, 768]               0\n",
            "           Block-148             [-1, 197, 768]               0\n",
            "       LayerNorm-149             [-1, 197, 768]           1,536\n",
            "          Linear-150            [-1, 197, 2304]       1,771,776\n",
            "         Dropout-151         [-1, 12, 197, 197]               0\n",
            "          Linear-152             [-1, 197, 768]         590,592\n",
            "         Dropout-153             [-1, 197, 768]               0\n",
            "       Attention-154             [-1, 197, 768]               0\n",
            "        Identity-155             [-1, 197, 768]               0\n",
            "       LayerNorm-156             [-1, 197, 768]           1,536\n",
            "          Linear-157            [-1, 197, 3072]       2,362,368\n",
            "            GELU-158            [-1, 197, 3072]               0\n",
            "         Dropout-159            [-1, 197, 3072]               0\n",
            "          Linear-160             [-1, 197, 768]       2,360,064\n",
            "         Dropout-161             [-1, 197, 768]               0\n",
            "             Mlp-162             [-1, 197, 768]               0\n",
            "        Identity-163             [-1, 197, 768]               0\n",
            "           Block-164             [-1, 197, 768]               0\n",
            "       LayerNorm-165             [-1, 197, 768]           1,536\n",
            "          Linear-166            [-1, 197, 2304]       1,771,776\n",
            "         Dropout-167         [-1, 12, 197, 197]               0\n",
            "          Linear-168             [-1, 197, 768]         590,592\n",
            "         Dropout-169             [-1, 197, 768]               0\n",
            "       Attention-170             [-1, 197, 768]               0\n",
            "        Identity-171             [-1, 197, 768]               0\n",
            "       LayerNorm-172             [-1, 197, 768]           1,536\n",
            "          Linear-173            [-1, 197, 3072]       2,362,368\n",
            "            GELU-174            [-1, 197, 3072]               0\n",
            "         Dropout-175            [-1, 197, 3072]               0\n",
            "          Linear-176             [-1, 197, 768]       2,360,064\n",
            "         Dropout-177             [-1, 197, 768]               0\n",
            "             Mlp-178             [-1, 197, 768]               0\n",
            "        Identity-179             [-1, 197, 768]               0\n",
            "           Block-180             [-1, 197, 768]               0\n",
            "       LayerNorm-181             [-1, 197, 768]           1,536\n",
            "          Linear-182            [-1, 197, 2304]       1,771,776\n",
            "         Dropout-183         [-1, 12, 197, 197]               0\n",
            "          Linear-184             [-1, 197, 768]         590,592\n",
            "         Dropout-185             [-1, 197, 768]               0\n",
            "       Attention-186             [-1, 197, 768]               0\n",
            "        Identity-187             [-1, 197, 768]               0\n",
            "       LayerNorm-188             [-1, 197, 768]           1,536\n",
            "          Linear-189            [-1, 197, 3072]       2,362,368\n",
            "            GELU-190            [-1, 197, 3072]               0\n",
            "         Dropout-191            [-1, 197, 3072]               0\n",
            "          Linear-192             [-1, 197, 768]       2,360,064\n",
            "         Dropout-193             [-1, 197, 768]               0\n",
            "             Mlp-194             [-1, 197, 768]               0\n",
            "        Identity-195             [-1, 197, 768]               0\n",
            "           Block-196             [-1, 197, 768]               0\n",
            "       LayerNorm-197             [-1, 197, 768]           1,536\n",
            "        Identity-198                  [-1, 768]               0\n",
            "          Linear-199                    [-1, 4]           3,076\n",
            "VisionTransformer-200                    [-1, 4]               0\n",
            "================================================================\n",
            "Total params: 85,649,668\n",
            "Trainable params: 4,612\n",
            "Non-trainable params: 85,645,056\n",
            "----------------------------------------------------------------\n",
            "Input size (MB): 0.57\n",
            "Forward/backward pass size (MB): 408.54\n",
            "Params size (MB): 326.73\n",
            "Estimated Total Size (MB): 735.84\n",
            "----------------------------------------------------------------\n"
          ]
        }
      ],
      "source": [
        "counter = 1\n",
        "for param in model.parameters():\n",
        "  counter += 1\n",
        "  if counter >= 150:\n",
        "    param.requires_grad = True\n",
        "  \n",
        "summary(model, (3, 224, 224))"
      ]
    },
    {
      "cell_type": "code",
      "execution_count": 51,
      "metadata": {
        "colab": {
          "base_uri": "https://localhost:8080/"
        },
        "id": "npsCB0GFaTAb",
        "outputId": "e9aeedf4-1110-4778-dfc8-8fa4854eb45b"
      },
      "outputs": [
        {
          "name": "stdout",
          "output_type": "stream",
          "text": [
            "cuda\n",
            "######### Into Validation Step ########\n",
            "[1 300]  Valid loss : 0.4015531539916992 \t Valid Accuracy : 0.8802816867828369\n",
            "Epoch : 1 Train epoch loss : 0.48445749282836914 \t Train Accuracy : 0.8348625302314758\n",
            "######### Into Validation Step ########\n",
            "[2 300]  Valid loss : 0.3780776262283325 \t Valid Accuracy : 0.8794013857841492\n",
            "Epoch : 2 Train epoch loss : 0.37267687916755676 \t Train Accuracy : 0.8735371828079224\n",
            "######### Into Validation Step ########\n",
            "[3 300]  Valid loss : 0.3200705051422119 \t Valid Accuracy : 0.9014084339141846\n",
            "Epoch : 3 Train epoch loss : 0.346443772315979 \t Train Accuracy : 0.8827422857284546\n",
            "######### Into Validation Step ########\n",
            "[4 300]  Valid loss : 0.33819031715393066 \t Valid Accuracy : 0.9084506630897522\n",
            "Epoch : 4 Train epoch loss : 0.33684760332107544 \t Train Accuracy : 0.8916149139404297\n",
            "######### Into Validation Step ########\n",
            "[5 300]  Valid loss : 0.3155050575733185 \t Valid Accuracy : 0.9137323498725891\n",
            "Epoch : 5 Train epoch loss : 0.3460366129875183 \t Train Accuracy : 0.8817597031593323\n"
          ]
        }
      ],
      "source": [
        "LR = 0.001\n",
        "epochs = 5\n",
        "device = torch.device('cuda' if torch.cuda.is_available() else 'cpu')\n",
        "print(device)\n",
        "check_every = 300\n",
        "criterion = nn.CrossEntropyLoss()\n",
        "# optimizer = torch.optim.Adam(model.parameters(), lr=LR)\n",
        "optimizer = torch.optim.Adam(filter(lambda p: p.requires_grad, model.parameters()), lr=LR)\n",
        "train_loss_array = []\n",
        "train_acc_array = []\n",
        "val_loss_array = []\n",
        "val_acc_array = []\n",
        "for epoch in range(epochs):\n",
        "  epoch_loss = 0.0\n",
        "  epoch_accuracy = 0.0\n",
        "  i = 1\n",
        "  for data, target in train_loader:\n",
        "    model.train()\n",
        "    data, target = data.to(device, dtype=torch.float32), target.to(device, dtype=torch.int64)\n",
        "    # clear the gradients of all optimized variables\n",
        "    optimizer.zero_grad()\n",
        "    # forward pass: compute predicted outputs by passing inputs to the model\n",
        "    output = model(data)\n",
        "    # calculate the batch loss\n",
        "    loss = criterion(output, target)\n",
        "    # backward pass: compute gradient of the loss with respect to model parameters\n",
        "    loss.backward()\n",
        "    # Calculate Accuracy\n",
        "    accuracy = (output.argmax(dim=1) == target).float().mean()\n",
        "    # update training loss and accuracy\n",
        "    epoch_loss += loss\n",
        "    epoch_accuracy += accuracy\n",
        "    optimizer.step()\n",
        "    i += 1\n",
        "    if i % check_every == 0:\n",
        "      \n",
        "      # keep track of validation loss\n",
        "      valid_loss = 0.0\n",
        "      valid_accuracy = 0.0\n",
        "      print(\"######### Into Validation Step ########\")\n",
        "      ######################\n",
        "      # validate the model #\n",
        "      ######################\n",
        "      with torch.no_grad():\n",
        "        model.eval()\n",
        "        for data, target in valid_loader:\n",
        "          # move tensors to GPU if CUDA is available\n",
        "          data, target = data.to(device, dtype=torch.float32), target.to(device, dtype=torch.int64)\n",
        "          # forward pass: compute predicted outputs by passing inputs to the model\n",
        "          output = model(data)\n",
        "          # calculate the batch loss\n",
        "          loss = criterion(output, target)\n",
        "          # Calculate Accuracy\n",
        "          accuracy = (output.argmax(dim=1) == target).float().mean()\n",
        "          # update average validation loss and accuracy\n",
        "          valid_loss += loss\n",
        "          valid_accuracy += accuracy\n",
        "        val_loss_array.append(valid_loss/len(valid_loader)) \n",
        "        val_acc_array.append(valid_accuracy/len(valid_loader))\n",
        "        print(\"[{} {}]  Valid loss : {} \\t Valid Accuracy : {}\".format(epoch+1, i, valid_loss / len(valid_loader), valid_accuracy / len(valid_loader)))\n",
        "    model.train()\n",
        "  train_loss_array.append(epoch_loss/len(train_loader)) \n",
        "  train_acc_array.append(epoch_accuracy/len(train_loader))\n",
        "  print(\"Epoch : {} Train epoch loss : {} \\t Train Accuracy : {}\".format(epoch+1, epoch_loss / len(train_loader), epoch_accuracy / len(train_loader)))"
      ]
    },
    {
      "cell_type": "code",
      "execution_count": 60,
      "metadata": {
        "colab": {
          "base_uri": "https://localhost:8080/"
        },
        "id": "ucKw2FqxOzpN",
        "outputId": "5bd43411-c5b7-4736-c8d5-4b992396cbc0"
      },
      "outputs": [
        {
          "data": {
            "text/plain": [
              "[tensor(0.4845, device='cuda:0', grad_fn=<DivBackward0>),\n",
              " tensor(0.3727, device='cuda:0', grad_fn=<DivBackward0>),\n",
              " tensor(0.3464, device='cuda:0', grad_fn=<DivBackward0>),\n",
              " tensor(0.3368, device='cuda:0', grad_fn=<DivBackward0>),\n",
              " tensor(0.3460, device='cuda:0', grad_fn=<DivBackward0>)]"
            ]
          },
          "execution_count": 60,
          "metadata": {},
          "output_type": "execute_result"
        }
      ],
      "source": [
        "train_loss_array"
      ]
    },
    {
      "cell_type": "code",
      "execution_count": 61,
      "metadata": {
        "colab": {
          "base_uri": "https://localhost:8080/"
        },
        "id": "YcU57BcvOepb",
        "outputId": "d6252ae1-f3f3-4b51-8a25-92cf0e2bade1"
      },
      "outputs": [
        {
          "data": {
            "text/plain": [
              "[tensor(0.4016, device='cuda:0'),\n",
              " tensor(0.3781, device='cuda:0'),\n",
              " tensor(0.3201, device='cuda:0'),\n",
              " tensor(0.3382, device='cuda:0'),\n",
              " tensor(0.3155, device='cuda:0')]"
            ]
          },
          "execution_count": 61,
          "metadata": {},
          "output_type": "execute_result"
        }
      ],
      "source": [
        "val_loss_array"
      ]
    },
    {
      "cell_type": "code",
      "execution_count": 63,
      "metadata": {
        "colab": {
          "base_uri": "https://localhost:8080/"
        },
        "id": "IyWoOcmgO66T",
        "outputId": "2ec39f93-1be8-432e-9e07-3f9088070aab"
      },
      "outputs": [
        {
          "data": {
            "text/plain": [
              "[tensor(0.8349, device='cuda:0'),\n",
              " tensor(0.8735, device='cuda:0'),\n",
              " tensor(0.8827, device='cuda:0'),\n",
              " tensor(0.8916, device='cuda:0'),\n",
              " tensor(0.8818, device='cuda:0')]"
            ]
          },
          "execution_count": 63,
          "metadata": {},
          "output_type": "execute_result"
        }
      ],
      "source": [
        "train_acc_array"
      ]
    },
    {
      "cell_type": "code",
      "execution_count": 62,
      "metadata": {
        "colab": {
          "base_uri": "https://localhost:8080/"
        },
        "id": "VfVOU6QKOoxm",
        "outputId": "b54efe02-3989-4c94-8660-b70f4f16c7ab"
      },
      "outputs": [
        {
          "data": {
            "text/plain": [
              "[tensor(0.8803, device='cuda:0'),\n",
              " tensor(0.8794, device='cuda:0'),\n",
              " tensor(0.9014, device='cuda:0'),\n",
              " tensor(0.9085, device='cuda:0'),\n",
              " tensor(0.9137, device='cuda:0')]"
            ]
          },
          "execution_count": 62,
          "metadata": {},
          "output_type": "execute_result"
        }
      ],
      "source": [
        "val_acc_array"
      ]
    },
    {
      "cell_type": "code",
      "execution_count": 65,
      "metadata": {
        "colab": {
          "base_uri": "https://localhost:8080/"
        },
        "id": "gV9PZ4kSxTWT",
        "outputId": "0320c7e7-88a4-4c4c-e8c0-510728a03e65"
      },
      "outputs": [
        {
          "name": "stdout",
          "output_type": "stream",
          "text": [
            "cuda\n",
            "######### Into Validation Step ########\n",
            "[1 300]  Valid loss : 0.31054699420928955 \t Valid Accuracy : 0.9075704216957092\n",
            "Epoch : 1 Train epoch loss : 0.328321635723114 \t Train Accuracy : 0.8920581340789795\n",
            "######### Into Validation Step ########\n",
            "[2 300]  Valid loss : 0.3262495994567871 \t Valid Accuracy : 0.9005281329154968\n",
            "Epoch : 2 Train epoch loss : 0.3239913284778595 \t Train Accuracy : 0.8949393630027771\n",
            "######### Into Validation Step ########\n",
            "[3 300]  Valid loss : 0.2974778711795807 \t Valid Accuracy : 0.9146126508712769\n",
            "Epoch : 3 Train epoch loss : 0.3316201865673065 \t Train Accuracy : 0.8886302709579468\n",
            "######### Into Validation Step ########\n",
            "[4 300]  Valid loss : 0.2933146357536316 \t Valid Accuracy : 0.9242957830429077\n",
            "Epoch : 4 Train epoch loss : 0.32698413729667664 \t Train Accuracy : 0.8932697772979736\n",
            "######### Into Validation Step ########\n",
            "[5 300]  Valid loss : 0.2878643870353699 \t Valid Accuracy : 0.92341548204422\n",
            "Epoch : 5 Train epoch loss : 0.31686773896217346 \t Train Accuracy : 0.8979166150093079\n"
          ]
        }
      ],
      "source": [
        "LR = 0.001\n",
        "epochs = 5\n",
        "device = torch.device('cuda' if torch.cuda.is_available() else 'cpu')\n",
        "print(device)\n",
        "check_every = 300\n",
        "criterion = nn.CrossEntropyLoss()\n",
        "# optimizer = torch.optim.Adam(model.parameters(), lr=LR)\n",
        "optimizer = torch.optim.Adam(filter(lambda p: p.requires_grad, model.parameters()), lr=LR)\n",
        "train_loss_array = []\n",
        "train_acc_array = []\n",
        "val_loss_array = []\n",
        "val_acc_array = []\n",
        "for epoch in range(epochs):\n",
        "  epoch_loss = 0.0\n",
        "  epoch_accuracy = 0.0\n",
        "  i = 1\n",
        "  for data, target in train_loader:\n",
        "    model.train()\n",
        "    data, target = data.to(device, dtype=torch.float32), target.to(device, dtype=torch.int64)\n",
        "    # clear the gradients of all optimized variables\n",
        "    optimizer.zero_grad()\n",
        "    # forward pass: compute predicted outputs by passing inputs to the model\n",
        "    output = model(data)\n",
        "    # calculate the batch loss\n",
        "    loss = criterion(output, target)\n",
        "    # backward pass: compute gradient of the loss with respect to model parameters\n",
        "    loss.backward()\n",
        "    # Calculate Accuracy\n",
        "    accuracy = (output.argmax(dim=1) == target).float().mean()\n",
        "    # update training loss and accuracy\n",
        "    epoch_loss += loss\n",
        "    epoch_accuracy += accuracy\n",
        "    optimizer.step()\n",
        "    i += 1\n",
        "    if i % check_every == 0:\n",
        "      \n",
        "      # keep track of validation loss\n",
        "      valid_loss = 0.0\n",
        "      valid_accuracy = 0.0\n",
        "      print(\"######### Into Validation Step ########\")\n",
        "      ######################\n",
        "      # validate the model #\n",
        "      ######################\n",
        "      with torch.no_grad():\n",
        "        model.eval()\n",
        "        for data, target in valid_loader:\n",
        "          # move tensors to GPU if CUDA is available\n",
        "          data, target = data.to(device, dtype=torch.float32), target.to(device, dtype=torch.int64)\n",
        "          # forward pass: compute predicted outputs by passing inputs to the model\n",
        "          output = model(data)\n",
        "          # calculate the batch loss\n",
        "          loss = criterion(output, target)\n",
        "          # Calculate Accuracy\n",
        "          accuracy = (output.argmax(dim=1) == target).float().mean()\n",
        "          # update average validation loss and accuracy\n",
        "          valid_loss += loss\n",
        "          valid_accuracy += accuracy\n",
        "        val_loss_array.append(valid_loss/len(valid_loader)) \n",
        "        val_acc_array.append(valid_accuracy/len(valid_loader))\n",
        "        print(\"[{} {}]  Valid loss : {} \\t Valid Accuracy : {}\".format(epoch+1, i, valid_loss / len(valid_loader), valid_accuracy / len(valid_loader)))\n",
        "    model.train()\n",
        "  train_loss_array.append(epoch_loss/len(train_loader)) \n",
        "  train_acc_array.append(epoch_accuracy/len(train_loader))\n",
        "  print(\"Epoch : {} Train epoch loss : {} \\t Train Accuracy : {}\".format(epoch+1, epoch_loss / len(train_loader), epoch_accuracy / len(train_loader)))"
      ]
    },
    {
      "cell_type": "markdown",
      "metadata": {
        "id": "SOX00intXny0"
      },
      "source": [
        "On 14th epoch got the best validation accuracy"
      ]
    },
    {
      "cell_type": "markdown",
      "metadata": {
        "id": "YAfP404_WVx4"
      },
      "source": [
        "### Test Data evaulation\n"
      ]
    },
    {
      "cell_type": "code",
      "execution_count": 69,
      "metadata": {
        "id": "it2QzqcNO9cs"
      },
      "outputs": [],
      "source": [
        "test_dataset = PollenDataset(test_df, transforms=transforms_valid)\n",
        "test_loader = DataLoader(\n",
        "    dataset=test_dataset,\n",
        "    batch_size=BATCH_SIZE,\n",
        "    shuffle=False\n",
        "    )"
      ]
    },
    {
      "cell_type": "code",
      "execution_count": 71,
      "metadata": {
        "colab": {
          "base_uri": "https://localhost:8080/"
        },
        "id": "76OKNBHHWUz6",
        "outputId": "dea0a4c8-24fd-437e-e297-02b92e596e4f"
      },
      "outputs": [
        {
          "name": "stdout",
          "output_type": "stream",
          "text": [
            "######### Testing Model on Test dataset ########\n",
            "[5 565]  Test loss : 0.3325207829475403 \t Test Accuracy : 0.8943662047386169\n"
          ]
        }
      ],
      "source": [
        "test_loss = 0.0\n",
        "test_accuracy = 0.0\n",
        "print(\"######### Testing Model on Test dataset ########\")\n",
        "######################\n",
        "# Testing the model #\n",
        "######################\n",
        "# To generate confusion matrix, saving the prediction and corresponding labels in a list\n",
        "prediction = []\n",
        "ground_truth = []\n",
        "with torch.no_grad():\n",
        "  model.eval()\n",
        "  for data, target in test_loader:\n",
        "    # move tensors to GPU if CUDA is available\n",
        "    data, target = data.to(device, dtype=torch.float32), target.to(device, dtype=torch.int64)\n",
        "    # forward pass: compute predicted outputs by passing inputs to the model\n",
        "    output = model(data)\n",
        "    # calculate the batch loss\n",
        "    loss = criterion(output, target)\n",
        "    # Calculate Accuracy\n",
        "    prediction.extend(output.argmax(dim=1))\n",
        "    ground_truth.extend(target)\n",
        "    accuracy = (output.argmax(dim=1) == target).float().mean()\n",
        "    # update average validation loss and accuracy\n",
        "    test_loss += loss\n",
        "    test_accuracy += accuracy\n",
        "  print(\"[{} {}]  Test loss : {} \\t Test Accuracy : {}\".format(epoch+1, i, test_loss / len(test_loader), test_accuracy / len(test_loader)))"
      ]
    },
    {
      "cell_type": "code",
      "execution_count": 78,
      "metadata": {
        "id": "hFXdMmwlYd5B"
      },
      "outputs": [],
      "source": [
        "prediction_array = [int(i.cpu().detach().numpy()) for i in prediction]\n",
        "ground_truth_array = [int(i.cpu().detach().numpy()) for i in ground_truth]"
      ]
    },
    {
      "cell_type": "code",
      "execution_count": null,
      "metadata": {
        "id": "DZMn-WJ2YpIk"
      },
      "outputs": [],
      "source": [
        "prediction_array"
      ]
    },
    {
      "cell_type": "code",
      "execution_count": 81,
      "metadata": {
        "colab": {
          "base_uri": "https://localhost:8080/"
        },
        "id": "LyCR6-KoXcl5",
        "outputId": "bdf80dcd-69e3-4df0-eae8-8fbac2e358d5"
      },
      "outputs": [
        {
          "name": "stdout",
          "output_type": "stream",
          "text": [
            "              precision    recall  f1-score   support\n",
            "\n",
            "           0       0.96      0.55      0.70       157\n",
            "           1       0.78      0.74      0.76        77\n",
            "           2       0.90      0.98      0.94       822\n",
            "           3       0.82      0.89      0.85        72\n",
            "\n",
            "    accuracy                           0.89      1128\n",
            "   macro avg       0.87      0.79      0.81      1128\n",
            "weighted avg       0.90      0.89      0.89      1128\n",
            "\n",
            "[[ 86   4  64   3]\n",
            " [  1  57  14   5]\n",
            " [  3  11 802   6]\n",
            " [  0   1   7  64]]\n"
          ]
        }
      ],
      "source": [
        "from sklearn.metrics import classification_report, confusion_matrix\n",
        "print(classification_report(ground_truth_array, prediction_array))\n",
        "print(confusion_matrix(ground_truth_array, prediction_array))"
      ]
    },
    {
      "cell_type": "code",
      "execution_count": null,
      "metadata": {
        "id": "p_S_E7tuYWaQ"
      },
      "outputs": [],
      "source": []
    }
  ],
  "metadata": {
    "accelerator": "GPU",
    "colab": {
      "collapsed_sections": [],
      "name": "Vision-Transformer for Pollen Classification.ipynb",
      "provenance": []
    },
    "kernelspec": {
      "display_name": "Python 3",
      "language": "python",
      "name": "python3"
    },
    "language_info": {
      "codemirror_mode": {
        "name": "ipython",
        "version": 3
      },
      "file_extension": ".py",
      "mimetype": "text/x-python",
      "name": "python",
      "nbconvert_exporter": "python",
      "pygments_lexer": "ipython3",
      "version": "3.7.6"
    },
    "papermill": {
      "duration": 2169.65242,
      "end_time": "2020-12-02T19:08:16.137317",
      "environment_variables": {},
      "exception": null,
      "input_path": "__notebook__.ipynb",
      "output_path": "__notebook__.ipynb",
      "parameters": {},
      "start_time": "2020-12-02T18:32:06.484897",
      "version": "2.1.0"
    }
  },
  "nbformat": 4,
  "nbformat_minor": 0
}
